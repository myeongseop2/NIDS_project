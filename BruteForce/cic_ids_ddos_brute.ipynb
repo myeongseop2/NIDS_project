{
  "nbformat": 4,
  "nbformat_minor": 0,
  "metadata": {
    "colab": {
      "provenance": [],
      "authorship_tag": "ABX9TyOt3Z1ndJ0KE4aZ5w97pn+B",
      "include_colab_link": true
    },
    "kernelspec": {
      "name": "python3",
      "display_name": "Python 3"
    },
    "language_info": {
      "name": "python"
    },
    "accelerator": "GPU",
    "gpuClass": "standard"
  },
  "cells": [
    {
      "cell_type": "markdown",
      "metadata": {
        "id": "view-in-github",
        "colab_type": "text"
      },
      "source": [
        "<a href=\"https://colab.research.google.com/github/myeongseop2/NIDS_project/blob/main/BruteForce/cic_ids_ddos_brute.ipynb\" target=\"_parent\"><img src=\"https://colab.research.google.com/assets/colab-badge.svg\" alt=\"Open In Colab\"/></a>"
      ]
    },
    {
      "cell_type": "code",
      "execution_count": null,
      "metadata": {
        "colab": {
          "base_uri": "https://localhost:8080/"
        },
        "id": "OV_QA-4fqv-N",
        "outputId": "219dcf35-c999-4208-b41a-e311fa372a8c"
      },
      "outputs": [
        {
          "output_type": "stream",
          "name": "stdout",
          "text": [
            "Mounted at /content/drive\n"
          ]
        }
      ],
      "source": [
        "from google.colab import drive\n",
        "drive.mount('/content/drive')"
      ]
    },
    {
      "cell_type": "code",
      "source": [
        "import io\n",
        "import pandas as pd\n",
        "\n",
        "df = pd.read_csv(\"/content/drive/MyDrive/ids/02-14-2018.csv\")"
      ],
      "metadata": {
        "id": "l6-To_eprMUs"
      },
      "execution_count": null,
      "outputs": []
    },
    {
      "cell_type": "code",
      "source": [
        "#df2 = pd.read_csv(\"/content/drive/MyDrive/ids/02-20-2018.csv\")"
      ],
      "metadata": {
        "id": "dGngefATrlNF"
      },
      "execution_count": null,
      "outputs": []
    },
    {
      "cell_type": "code",
      "source": [
        " df3 = pd.read_csv(\"/content/drive/MyDrive/ids/02-21-2018.csv\")"
      ],
      "metadata": {
        "id": "3EIKU2g4swFZ"
      },
      "execution_count": null,
      "outputs": []
    },
    {
      "cell_type": "code",
      "source": [
        " df.shape"
      ],
      "metadata": {
        "colab": {
          "base_uri": "https://localhost:8080/"
        },
        "id": "0kaxUeXHxd3C",
        "outputId": "a454d6e9-ddd7-445a-988b-8320e9df55b8"
      },
      "execution_count": null,
      "outputs": [
        {
          "output_type": "execute_result",
          "data": {
            "text/plain": [
              "(1048575, 80)"
            ]
          },
          "metadata": {},
          "execution_count": 5
        }
      ]
    },
    {
      "cell_type": "code",
      "source": [
        " df3.shape"
      ],
      "metadata": {
        "id": "QP1cOPeJGLHc",
        "colab": {
          "base_uri": "https://localhost:8080/"
        },
        "outputId": "b33c3bd3-6570-4c66-f198-80c68a152ee5"
      },
      "execution_count": null,
      "outputs": [
        {
          "output_type": "execute_result",
          "data": {
            "text/plain": [
              "(1048575, 80)"
            ]
          },
          "metadata": {},
          "execution_count": 6
        }
      ]
    },
    {
      "cell_type": "code",
      "source": [
        "df[\"Label\"].value_counts()"
      ],
      "metadata": {
        "colab": {
          "base_uri": "https://localhost:8080/"
        },
        "id": "MMMAm4WSxkg4",
        "outputId": "ac388f39-d19a-4d52-9e60-a2cc5c979d1a"
      },
      "execution_count": null,
      "outputs": [
        {
          "output_type": "execute_result",
          "data": {
            "text/plain": [
              "Benign            667626\n",
              "FTP-BruteForce    193360\n",
              "SSH-Bruteforce    187589\n",
              "Name: Label, dtype: int64"
            ]
          },
          "metadata": {},
          "execution_count": 7
        }
      ]
    },
    {
      "cell_type": "code",
      "source": [
        "df3[\"Label\"].value_counts()"
      ],
      "metadata": {
        "colab": {
          "base_uri": "https://localhost:8080/"
        },
        "id": "u8D6pUWAxnwm",
        "outputId": "f8bc7b04-d57c-4439-d3ac-26a33e55a7e7"
      },
      "execution_count": null,
      "outputs": [
        {
          "output_type": "execute_result",
          "data": {
            "text/plain": [
              "DDOS attack-HOIC        686012\n",
              "Benign                  360833\n",
              "DDOS attack-LOIC-UDP      1730\n",
              "Name: Label, dtype: int64"
            ]
          },
          "metadata": {},
          "execution_count": 8
        }
      ]
    },
    {
      "cell_type": "code",
      "source": [
        "result = pd.concat([df, df3])\n",
        "result.shape"
      ],
      "metadata": {
        "colab": {
          "base_uri": "https://localhost:8080/"
        },
        "id": "DHDuhqDXxqK1",
        "outputId": "94cfa963-83e7-4044-d79d-a33f1aa81dc3"
      },
      "execution_count": null,
      "outputs": [
        {
          "output_type": "execute_result",
          "data": {
            "text/plain": [
              "(2097150, 80)"
            ]
          },
          "metadata": {},
          "execution_count": 9
        }
      ]
    },
    {
      "cell_type": "code",
      "source": [
        "result['Label'].value_counts()"
      ],
      "metadata": {
        "colab": {
          "base_uri": "https://localhost:8080/"
        },
        "id": "c6dyalb-yG73",
        "outputId": "732f40e8-6b21-44f0-bd09-c48895d5991c"
      },
      "execution_count": null,
      "outputs": [
        {
          "output_type": "execute_result",
          "data": {
            "text/plain": [
              "Benign                  1028459\n",
              "DDOS attack-HOIC         686012\n",
              "FTP-BruteForce           193360\n",
              "SSH-Bruteforce           187589\n",
              "DDOS attack-LOIC-UDP       1730\n",
              "Name: Label, dtype: int64"
            ]
          },
          "metadata": {},
          "execution_count": 10
        }
      ]
    },
    {
      "cell_type": "code",
      "source": [
        "result.isnull().sum().sum()"
      ],
      "metadata": {
        "colab": {
          "base_uri": "https://localhost:8080/"
        },
        "id": "ct1FKHZ7yLH7",
        "outputId": "e70d0a54-540c-456e-fede-2c8fa95ed5a8"
      },
      "execution_count": null,
      "outputs": [
        {
          "output_type": "execute_result",
          "data": {
            "text/plain": [
              "2277"
            ]
          },
          "metadata": {},
          "execution_count": 11
        }
      ]
    },
    {
      "cell_type": "code",
      "source": [
        "data = result.dropna()"
      ],
      "metadata": {
        "id": "IuTHRFCsyQh3"
      },
      "execution_count": null,
      "outputs": []
    },
    {
      "cell_type": "code",
      "source": [
        "data.isnull().sum().sum()"
      ],
      "metadata": {
        "colab": {
          "base_uri": "https://localhost:8080/"
        },
        "id": "IaJC1WQXyV69",
        "outputId": "82fe0fa5-0477-40c2-9e78-341e07500cb7"
      },
      "execution_count": null,
      "outputs": [
        {
          "output_type": "execute_result",
          "data": {
            "text/plain": [
              "0"
            ]
          },
          "metadata": {},
          "execution_count": 13
        }
      ]
    },
    {
      "cell_type": "code",
      "source": [
        "data.shape"
      ],
      "metadata": {
        "colab": {
          "base_uri": "https://localhost:8080/"
        },
        "id": "x4uRSCvIyaNm",
        "outputId": "ddb3c7e5-a7c2-47d6-b749-b1e04ec4bfda"
      },
      "execution_count": null,
      "outputs": [
        {
          "output_type": "execute_result",
          "data": {
            "text/plain": [
              "(2094873, 80)"
            ]
          },
          "metadata": {},
          "execution_count": 14
        }
      ]
    },
    {
      "cell_type": "code",
      "source": [
        "data[\"Label\"].value_counts()"
      ],
      "metadata": {
        "colab": {
          "base_uri": "https://localhost:8080/"
        },
        "id": "2plSTbFTygt_",
        "outputId": "7a2d085c-5056-4f03-ae65-333f0ae6088c"
      },
      "execution_count": null,
      "outputs": [
        {
          "output_type": "execute_result",
          "data": {
            "text/plain": [
              "Benign                  1026188\n",
              "DDOS attack-HOIC         686012\n",
              "FTP-BruteForce           193354\n",
              "SSH-Bruteforce           187589\n",
              "DDOS attack-LOIC-UDP       1730\n",
              "Name: Label, dtype: int64"
            ]
          },
          "metadata": {},
          "execution_count": 15
        }
      ]
    },
    {
      "cell_type": "code",
      "source": [
        "data.duplicated().sum()"
      ],
      "metadata": {
        "colab": {
          "base_uri": "https://localhost:8080/"
        },
        "id": "zGNWPN2GylTQ",
        "outputId": "7e99b362-403f-4d28-a9b5-8e5b0d833169"
      },
      "execution_count": null,
      "outputs": [
        {
          "output_type": "execute_result",
          "data": {
            "text/plain": [
              "243185"
            ]
          },
          "metadata": {},
          "execution_count": 16
        }
      ]
    },
    {
      "cell_type": "code",
      "source": [
        "data.drop_duplicates(inplace=True)"
      ],
      "metadata": {
        "colab": {
          "base_uri": "https://localhost:8080/"
        },
        "id": "Uw08SEwIyute",
        "outputId": "54a592f0-9f28-4229-81b9-fc5422372c38"
      },
      "execution_count": null,
      "outputs": [
        {
          "output_type": "stream",
          "name": "stderr",
          "text": [
            "/usr/local/lib/python3.7/dist-packages/pandas/util/_decorators.py:311: SettingWithCopyWarning: \n",
            "A value is trying to be set on a copy of a slice from a DataFrame\n",
            "\n",
            "See the caveats in the documentation: https://pandas.pydata.org/pandas-docs/stable/user_guide/indexing.html#returning-a-view-versus-a-copy\n",
            "  return func(*args, **kwargs)\n"
          ]
        }
      ]
    },
    {
      "cell_type": "code",
      "source": [
        "data.shape"
      ],
      "metadata": {
        "colab": {
          "base_uri": "https://localhost:8080/"
        },
        "id": "da-aXUEEy137",
        "outputId": "c74ec6ba-6695-4c1f-d56d-88cde0bc204b"
      },
      "execution_count": null,
      "outputs": [
        {
          "output_type": "execute_result",
          "data": {
            "text/plain": [
              "(1851688, 80)"
            ]
          },
          "metadata": {},
          "execution_count": 18
        }
      ]
    },
    {
      "cell_type": "code",
      "source": [
        "data[\"Label\"].value_counts()"
      ],
      "metadata": {
        "colab": {
          "base_uri": "https://localhost:8080/"
        },
        "id": "-BueGsrNy-Cc",
        "outputId": "d7e0abd8-062b-4534-f02e-f08da0bfcb38"
      },
      "execution_count": null,
      "outputs": [
        {
          "output_type": "execute_result",
          "data": {
            "text/plain": [
              "Benign                  1024829\n",
              "DDOS attack-HOIC         668461\n",
              "SSH-Bruteforce           117322\n",
              "FTP-BruteForce            39346\n",
              "DDOS attack-LOIC-UDP       1730\n",
              "Name: Label, dtype: int64"
            ]
          },
          "metadata": {},
          "execution_count": 19
        }
      ]
    },
    {
      "cell_type": "code",
      "source": [
        "#DDOS : 670191\n",
        "#BruteForce : 156668\n",
        "# df11 = data[data[\"Label\"] == \"Benign\"][:156668]\n",
        "# df22 = data[data[\"Label\"] == \"DDOS attack-HOIC\"][:154938]\n",
        "# df33 = data[data[\"Label\"] == \"DDOS attack-LOIC-UDP\"]\n",
        "# df44 = data[data[\"Label\"] == \"SSH-Bruteforce\"][:117322]\n",
        "# df55 = data[data[\"Label\"] == \"FTP-BruteForce\"]\n",
        "df11 = data[data[\"Label\"] == \"Benign\"][:10000]\n",
        "df22 = data[data[\"Label\"] == \"DDOS attack-HOIC\"][:9000]\n",
        "df33 = data[data[\"Label\"] == \"DDOS attack-LOIC-UDP\"][:1000]\n",
        "df44 = data[data[\"Label\"] == \"SSH-Bruteforce\"][:5000]\n",
        "df55 = data[data[\"Label\"] == \"FTP-BruteForce\"][:5000]"
      ],
      "metadata": {
        "id": "ZBRLebwZzDJe"
      },
      "execution_count": null,
      "outputs": []
    },
    {
      "cell_type": "code",
      "source": [
        "df = pd.concat([df11, df22, df33, df44, df55], axis = 0)"
      ],
      "metadata": {
        "id": "e-h2ujiE0YM8"
      },
      "execution_count": null,
      "outputs": []
    },
    {
      "cell_type": "code",
      "source": [
        "df[\"Label\"].value_counts()"
      ],
      "metadata": {
        "colab": {
          "base_uri": "https://localhost:8080/"
        },
        "id": "yRQIy3X00lcm",
        "outputId": "f6031cca-7aa2-4a90-9024-35b45356d37e"
      },
      "execution_count": null,
      "outputs": [
        {
          "output_type": "execute_result",
          "data": {
            "text/plain": [
              "Benign                  156668\n",
              "DDOS attack-HOIC        154938\n",
              "SSH-Bruteforce          117322\n",
              "FTP-BruteForce           39346\n",
              "DDOS attack-LOIC-UDP      1730\n",
              "Name: Label, dtype: int64"
            ]
          },
          "metadata": {},
          "execution_count": 22
        }
      ]
    },
    {
      "cell_type": "code",
      "source": [
        "df[['Date', 'Time']] = df['Timestamp'].str.split(expand=True)"
      ],
      "metadata": {
        "id": "itoeJ-8X0n4t"
      },
      "execution_count": null,
      "outputs": []
    },
    {
      "cell_type": "code",
      "source": [
        "df = df.drop('Timestamp', 1)"
      ],
      "metadata": {
        "colab": {
          "base_uri": "https://localhost:8080/"
        },
        "id": "iDDPQ9lH085x",
        "outputId": "9d900c08-5362-4805-e15c-5ffc2d044d27"
      },
      "execution_count": null,
      "outputs": [
        {
          "output_type": "stream",
          "name": "stderr",
          "text": [
            "/usr/local/lib/python3.7/dist-packages/ipykernel_launcher.py:1: FutureWarning: In a future version of pandas all arguments of DataFrame.drop except for the argument 'labels' will be keyword-only\n",
            "  \"\"\"Entry point for launching an IPython kernel.\n"
          ]
        }
      ]
    },
    {
      "cell_type": "code",
      "source": [
        "df['Time'] = df['Time'].str.replace(':', '')\n",
        "df['Date'] = df['Date'].str.replace('/', '')"
      ],
      "metadata": {
        "id": "YyLtUcZU099s"
      },
      "execution_count": null,
      "outputs": []
    },
    {
      "cell_type": "code",
      "source": [
        "df = df.astype({'Time' : 'int'})\n",
        "df = df.astype({'Date' : 'int'})"
      ],
      "metadata": {
        "id": "Q40y-Bqt0_wC"
      },
      "execution_count": null,
      "outputs": []
    },
    {
      "cell_type": "code",
      "source": [
        "label_ = []\n",
        "\n",
        "for at in df['Label']:\n",
        "    if at == 'Benign':\n",
        "        temp = 0\n",
        "    elif at == 'DDOS attack-HOIC':\n",
        "        temp = 1\n",
        "    elif at == 'DDOS attack-LOIC-UDP':\n",
        "        temp = 1\n",
        "    else:\n",
        "        temp = 2\n",
        "    label_.append(temp)"
      ],
      "metadata": {
        "id": "-tCleBfJ1A8e"
      },
      "execution_count": null,
      "outputs": []
    },
    {
      "cell_type": "code",
      "source": [
        "df[\"label\"] = label_"
      ],
      "metadata": {
        "id": "PrnCWjVI1Y20"
      },
      "execution_count": null,
      "outputs": []
    },
    {
      "cell_type": "code",
      "source": [
        "df.drop(['Label'], axis = 1, inplace = True)"
      ],
      "metadata": {
        "id": "-fkXxvWH1bc-"
      },
      "execution_count": null,
      "outputs": []
    },
    {
      "cell_type": "code",
      "source": [
        "df['label'].value_counts()"
      ],
      "metadata": {
        "colab": {
          "base_uri": "https://localhost:8080/"
        },
        "id": "00mVMttB1c7g",
        "outputId": "e700ce70-279a-47e0-9513-eda0c5e397f9"
      },
      "execution_count": null,
      "outputs": [
        {
          "output_type": "execute_result",
          "data": {
            "text/plain": [
              "0    156668\n",
              "1    156668\n",
              "2    156668\n",
              "Name: label, dtype: int64"
            ]
          },
          "metadata": {},
          "execution_count": 30
        }
      ]
    },
    {
      "cell_type": "code",
      "source": [
        "import numpy as np\n",
        "\n",
        "#columns_to_drop = ['Flow Byts/s', 'Flow Pkts/s']\n",
        "max_flow_bytes = df.loc[df['Flow Byts/s'] != np.inf, 'Flow Byts/s'].max()\n",
        "max_flow_pkts = df.loc[df['Flow Pkts/s'] != np.inf, 'Flow Pkts/s'].max()\n",
        "\n",
        "print(max_flow_bytes, max_flow_pkts)"
      ],
      "metadata": {
        "colab": {
          "base_uri": "https://localhost:8080/"
        },
        "id": "Naca07aS1d62",
        "outputId": "7d39f925-3712-4ea4-a258-a6e571ec267c"
      },
      "execution_count": null,
      "outputs": [
        {
          "output_type": "stream",
          "name": "stdout",
          "text": [
            "422631578.947368 3000000.0\n"
          ]
        }
      ]
    },
    {
      "cell_type": "code",
      "source": [
        "#df.drop(columns=columns_to_drop, inplace = True)\n",
        "\n",
        "df['Flow Byts/s'].replace(np.inf, max_flow_bytes + 1, inplace = True)\n",
        "df['Flow Pkts/s'].replace(np.inf, max_flow_pkts + 1, inplace = True)"
      ],
      "metadata": {
        "id": "yggts6uB1gdy"
      },
      "execution_count": null,
      "outputs": []
    },
    {
      "cell_type": "code",
      "source": [
        "from sklearn.utils import shuffle\n",
        "\n",
        "df = shuffle(df)"
      ],
      "metadata": {
        "id": "lZFBacNn1hWm"
      },
      "execution_count": null,
      "outputs": []
    },
    {
      "cell_type": "code",
      "source": [
        "#삭제할 특징\n",
        "del_col = ['Flow Duration',\n",
        " 'Flow IAT Mean',\n",
        " 'Fwd Pkt Len Std',\n",
        " 'ACK Flag Cnt',\n",
        " 'Bwd IAT Mean',\n",
        " 'Bwd IAT Std',\n",
        " 'Pkt Len Min',\n",
        " 'Bwd Pkt Len Min',\n",
        " 'Bwd Pkts/b Avg',\n",
        " 'Bwd PSH Flags',\n",
        " 'Fwd Pkts/s',\n",
        " 'Fwd URG Flags',\n",
        " 'Idle Mean',\n",
        " 'Bwd Byts/b Avg',\n",
        " 'Bwd Blk Rate Avg',\n",
        " 'URG Flag Cnt',\n",
        " 'Fwd PSH Flags',\n",
        " 'Bwd Pkt Len Mean',\n",
        " 'Bwd Pkts/s',\n",
        " 'Idle Min',\n",
        " 'Fwd Pkt Len Min',\n",
        " 'Down/Up Ratio',\n",
        " 'Flow IAT Std',\n",
        " 'Bwd IAT Tot',\n",
        " 'Bwd Seg Size Avg',\n",
        " 'Flow Pkts/s',\n",
        " 'Flow IAT Min',\n",
        " 'Pkt Len Max',\n",
        " 'Active Mean',\n",
        " 'Fwd Byts/b Avg',\n",
        " 'Flow IAT Max',\n",
        " 'Fwd IAT Max',\n",
        " 'Pkt Size Avg',\n",
        " 'Fwd Blk Rate Avg',\n",
        " 'Flow Byts/s',\n",
        " 'Pkt Len Mean',\n",
        " 'Idle Std',\n",
        " 'Fwd IAT Min',\n",
        " 'Active Max',\n",
        " 'Bwd IAT Min',\n",
        " 'Fwd IAT Tot',\n",
        " 'Bwd URG Flags',\n",
        " 'Fwd IAT Mean',\n",
        " 'FIN Flag Cnt',\n",
        " 'Fwd IAT Std',\n",
        " 'Active Min',\n",
        " 'Fwd Pkt Len Mean',\n",
        " 'SYN Flag Cnt',\n",
        " 'Pkt Len Var',\n",
        " 'Bwd Pkt Len Max',\n",
        " 'CWE Flag Count',\n",
        " 'PSH Flag Cnt',\n",
        " 'Pkt Len Std',\n",
        " 'Fwd Pkts/b Avg',\n",
        " 'Idle Max',\n",
        " 'Bwd IAT Max',\n",
        " 'Protocol',\n",
        " 'Fwd Seg Size Avg',\n",
        " 'Active Std']"
      ],
      "metadata": {
        "id": "c1bpcRklFwHs"
      },
      "execution_count": null,
      "outputs": []
    },
    {
      "cell_type": "code",
      "source": [
        "df = df.drop(del_col, axis = 1)"
      ],
      "metadata": {
        "id": "KyoQdNk_FwQU"
      },
      "execution_count": null,
      "outputs": []
    },
    {
      "cell_type": "code",
      "source": [
        "df"
      ],
      "metadata": {
        "colab": {
          "base_uri": "https://localhost:8080/",
          "height": 519
        },
        "id": "IDeXVjFdF8FG",
        "outputId": "24456dd4-77df-4348-9f5e-176b353fb489"
      },
      "execution_count": null,
      "outputs": [
        {
          "output_type": "execute_result",
          "data": {
            "text/plain": [
              "        Dst Port  Tot Fwd Pkts  Tot Bwd Pkts  TotLen Fwd Pkts  \\\n",
              "487140        80             4             4               97   \n",
              "259628        22            22            22             1944   \n",
              "73629         80             2             0                0   \n",
              "131380        21             1             1                0   \n",
              "102483        80             3             4              309   \n",
              "...          ...           ...           ...              ...   \n",
              "232508        22             1             1                0   \n",
              "208371        22            22            22             1976   \n",
              "124567        80             3             4              311   \n",
              "59899         21             1             1                0   \n",
              "143796        80             2             0                0   \n",
              "\n",
              "        TotLen Bwd Pkts  Fwd Pkt Len Max  Bwd Pkt Len Std  Fwd Header Len  \\\n",
              "487140              232               97        116.00000              92   \n",
              "259628             2665              640        258.64156             712   \n",
              "73629                 0                0          0.00000              40   \n",
              "131380                0                0          0.00000              40   \n",
              "102483              935              309        467.50000              72   \n",
              "...                 ...              ...              ...             ...   \n",
              "232508                0                0          0.00000              32   \n",
              "208371             2665              640        258.64156             712   \n",
              "124567              935              311        467.50000              72   \n",
              "59899                 0                0          0.00000              40   \n",
              "143796                0                0          0.00000              40   \n",
              "\n",
              "        Bwd Header Len  RST Flag Cnt  ...  Subflow Fwd Byts  Subflow Bwd Pkts  \\\n",
              "487140              92             0  ...                97                 4   \n",
              "259628             712             0  ...              1944                22   \n",
              "73629                0             0  ...                 0                 0   \n",
              "131380              20             0  ...                 0                 1   \n",
              "102483              92             1  ...               309                 4   \n",
              "...                ...           ...  ...               ...               ...   \n",
              "232508              32             0  ...                 0                 1   \n",
              "208371             712             0  ...              1976                22   \n",
              "124567              92             1  ...               311                 4   \n",
              "59899               20             0  ...                 0                 1   \n",
              "143796               0             0  ...                 0                 0   \n",
              "\n",
              "        Subflow Bwd Byts  Init Fwd Win Byts  Init Bwd Win Byts  \\\n",
              "487140               232               8192                141   \n",
              "259628              2665              26883                230   \n",
              "73629                  0              32738                 -1   \n",
              "131380                 0              26883                  0   \n",
              "102483               935              65535                219   \n",
              "...                  ...                ...                ...   \n",
              "232508                 0                241                230   \n",
              "208371              2665              26883                230   \n",
              "124567               935              65535                219   \n",
              "59899                  0              26883                  0   \n",
              "143796                 0              32738                 -1   \n",
              "\n",
              "        Fwd Act Data Pkts  Fwd Seg Size Min      Date    Time  label  \n",
              "487140                  1                20  14022018  100737      0  \n",
              "259628                 16                32  14022018   24710      2  \n",
              "73629                   0                20  21022018   21240      1  \n",
              "131380                  0                40  14022018  113921      2  \n",
              "102483                  1                20  21022018   21316      1  \n",
              "...                   ...               ...       ...     ...    ...  \n",
              "232508                  0                32  14022018   22033      2  \n",
              "208371                 16                32  14022018   22230      2  \n",
              "124567                  1                20  21022018   21343      1  \n",
              "59899                   0                40  14022018  110327      2  \n",
              "143796                  0                20  21022018   21408      1  \n",
              "\n",
              "[470004 rows x 22 columns]"
            ],
            "text/html": [
              "\n",
              "  <div id=\"df-fe3b640f-42a4-4c4f-86ab-a0b1e9cb8ab1\">\n",
              "    <div class=\"colab-df-container\">\n",
              "      <div>\n",
              "<style scoped>\n",
              "    .dataframe tbody tr th:only-of-type {\n",
              "        vertical-align: middle;\n",
              "    }\n",
              "\n",
              "    .dataframe tbody tr th {\n",
              "        vertical-align: top;\n",
              "    }\n",
              "\n",
              "    .dataframe thead th {\n",
              "        text-align: right;\n",
              "    }\n",
              "</style>\n",
              "<table border=\"1\" class=\"dataframe\">\n",
              "  <thead>\n",
              "    <tr style=\"text-align: right;\">\n",
              "      <th></th>\n",
              "      <th>Dst Port</th>\n",
              "      <th>Tot Fwd Pkts</th>\n",
              "      <th>Tot Bwd Pkts</th>\n",
              "      <th>TotLen Fwd Pkts</th>\n",
              "      <th>TotLen Bwd Pkts</th>\n",
              "      <th>Fwd Pkt Len Max</th>\n",
              "      <th>Bwd Pkt Len Std</th>\n",
              "      <th>Fwd Header Len</th>\n",
              "      <th>Bwd Header Len</th>\n",
              "      <th>RST Flag Cnt</th>\n",
              "      <th>...</th>\n",
              "      <th>Subflow Fwd Byts</th>\n",
              "      <th>Subflow Bwd Pkts</th>\n",
              "      <th>Subflow Bwd Byts</th>\n",
              "      <th>Init Fwd Win Byts</th>\n",
              "      <th>Init Bwd Win Byts</th>\n",
              "      <th>Fwd Act Data Pkts</th>\n",
              "      <th>Fwd Seg Size Min</th>\n",
              "      <th>Date</th>\n",
              "      <th>Time</th>\n",
              "      <th>label</th>\n",
              "    </tr>\n",
              "  </thead>\n",
              "  <tbody>\n",
              "    <tr>\n",
              "      <th>487140</th>\n",
              "      <td>80</td>\n",
              "      <td>4</td>\n",
              "      <td>4</td>\n",
              "      <td>97</td>\n",
              "      <td>232</td>\n",
              "      <td>97</td>\n",
              "      <td>116.00000</td>\n",
              "      <td>92</td>\n",
              "      <td>92</td>\n",
              "      <td>0</td>\n",
              "      <td>...</td>\n",
              "      <td>97</td>\n",
              "      <td>4</td>\n",
              "      <td>232</td>\n",
              "      <td>8192</td>\n",
              "      <td>141</td>\n",
              "      <td>1</td>\n",
              "      <td>20</td>\n",
              "      <td>14022018</td>\n",
              "      <td>100737</td>\n",
              "      <td>0</td>\n",
              "    </tr>\n",
              "    <tr>\n",
              "      <th>259628</th>\n",
              "      <td>22</td>\n",
              "      <td>22</td>\n",
              "      <td>22</td>\n",
              "      <td>1944</td>\n",
              "      <td>2665</td>\n",
              "      <td>640</td>\n",
              "      <td>258.64156</td>\n",
              "      <td>712</td>\n",
              "      <td>712</td>\n",
              "      <td>0</td>\n",
              "      <td>...</td>\n",
              "      <td>1944</td>\n",
              "      <td>22</td>\n",
              "      <td>2665</td>\n",
              "      <td>26883</td>\n",
              "      <td>230</td>\n",
              "      <td>16</td>\n",
              "      <td>32</td>\n",
              "      <td>14022018</td>\n",
              "      <td>24710</td>\n",
              "      <td>2</td>\n",
              "    </tr>\n",
              "    <tr>\n",
              "      <th>73629</th>\n",
              "      <td>80</td>\n",
              "      <td>2</td>\n",
              "      <td>0</td>\n",
              "      <td>0</td>\n",
              "      <td>0</td>\n",
              "      <td>0</td>\n",
              "      <td>0.00000</td>\n",
              "      <td>40</td>\n",
              "      <td>0</td>\n",
              "      <td>0</td>\n",
              "      <td>...</td>\n",
              "      <td>0</td>\n",
              "      <td>0</td>\n",
              "      <td>0</td>\n",
              "      <td>32738</td>\n",
              "      <td>-1</td>\n",
              "      <td>0</td>\n",
              "      <td>20</td>\n",
              "      <td>21022018</td>\n",
              "      <td>21240</td>\n",
              "      <td>1</td>\n",
              "    </tr>\n",
              "    <tr>\n",
              "      <th>131380</th>\n",
              "      <td>21</td>\n",
              "      <td>1</td>\n",
              "      <td>1</td>\n",
              "      <td>0</td>\n",
              "      <td>0</td>\n",
              "      <td>0</td>\n",
              "      <td>0.00000</td>\n",
              "      <td>40</td>\n",
              "      <td>20</td>\n",
              "      <td>0</td>\n",
              "      <td>...</td>\n",
              "      <td>0</td>\n",
              "      <td>1</td>\n",
              "      <td>0</td>\n",
              "      <td>26883</td>\n",
              "      <td>0</td>\n",
              "      <td>0</td>\n",
              "      <td>40</td>\n",
              "      <td>14022018</td>\n",
              "      <td>113921</td>\n",
              "      <td>2</td>\n",
              "    </tr>\n",
              "    <tr>\n",
              "      <th>102483</th>\n",
              "      <td>80</td>\n",
              "      <td>3</td>\n",
              "      <td>4</td>\n",
              "      <td>309</td>\n",
              "      <td>935</td>\n",
              "      <td>309</td>\n",
              "      <td>467.50000</td>\n",
              "      <td>72</td>\n",
              "      <td>92</td>\n",
              "      <td>1</td>\n",
              "      <td>...</td>\n",
              "      <td>309</td>\n",
              "      <td>4</td>\n",
              "      <td>935</td>\n",
              "      <td>65535</td>\n",
              "      <td>219</td>\n",
              "      <td>1</td>\n",
              "      <td>20</td>\n",
              "      <td>21022018</td>\n",
              "      <td>21316</td>\n",
              "      <td>1</td>\n",
              "    </tr>\n",
              "    <tr>\n",
              "      <th>...</th>\n",
              "      <td>...</td>\n",
              "      <td>...</td>\n",
              "      <td>...</td>\n",
              "      <td>...</td>\n",
              "      <td>...</td>\n",
              "      <td>...</td>\n",
              "      <td>...</td>\n",
              "      <td>...</td>\n",
              "      <td>...</td>\n",
              "      <td>...</td>\n",
              "      <td>...</td>\n",
              "      <td>...</td>\n",
              "      <td>...</td>\n",
              "      <td>...</td>\n",
              "      <td>...</td>\n",
              "      <td>...</td>\n",
              "      <td>...</td>\n",
              "      <td>...</td>\n",
              "      <td>...</td>\n",
              "      <td>...</td>\n",
              "      <td>...</td>\n",
              "    </tr>\n",
              "    <tr>\n",
              "      <th>232508</th>\n",
              "      <td>22</td>\n",
              "      <td>1</td>\n",
              "      <td>1</td>\n",
              "      <td>0</td>\n",
              "      <td>0</td>\n",
              "      <td>0</td>\n",
              "      <td>0.00000</td>\n",
              "      <td>32</td>\n",
              "      <td>32</td>\n",
              "      <td>0</td>\n",
              "      <td>...</td>\n",
              "      <td>0</td>\n",
              "      <td>1</td>\n",
              "      <td>0</td>\n",
              "      <td>241</td>\n",
              "      <td>230</td>\n",
              "      <td>0</td>\n",
              "      <td>32</td>\n",
              "      <td>14022018</td>\n",
              "      <td>22033</td>\n",
              "      <td>2</td>\n",
              "    </tr>\n",
              "    <tr>\n",
              "      <th>208371</th>\n",
              "      <td>22</td>\n",
              "      <td>22</td>\n",
              "      <td>22</td>\n",
              "      <td>1976</td>\n",
              "      <td>2665</td>\n",
              "      <td>640</td>\n",
              "      <td>258.64156</td>\n",
              "      <td>712</td>\n",
              "      <td>712</td>\n",
              "      <td>0</td>\n",
              "      <td>...</td>\n",
              "      <td>1976</td>\n",
              "      <td>22</td>\n",
              "      <td>2665</td>\n",
              "      <td>26883</td>\n",
              "      <td>230</td>\n",
              "      <td>16</td>\n",
              "      <td>32</td>\n",
              "      <td>14022018</td>\n",
              "      <td>22230</td>\n",
              "      <td>2</td>\n",
              "    </tr>\n",
              "    <tr>\n",
              "      <th>124567</th>\n",
              "      <td>80</td>\n",
              "      <td>3</td>\n",
              "      <td>4</td>\n",
              "      <td>311</td>\n",
              "      <td>935</td>\n",
              "      <td>311</td>\n",
              "      <td>467.50000</td>\n",
              "      <td>72</td>\n",
              "      <td>92</td>\n",
              "      <td>1</td>\n",
              "      <td>...</td>\n",
              "      <td>311</td>\n",
              "      <td>4</td>\n",
              "      <td>935</td>\n",
              "      <td>65535</td>\n",
              "      <td>219</td>\n",
              "      <td>1</td>\n",
              "      <td>20</td>\n",
              "      <td>21022018</td>\n",
              "      <td>21343</td>\n",
              "      <td>1</td>\n",
              "    </tr>\n",
              "    <tr>\n",
              "      <th>59899</th>\n",
              "      <td>21</td>\n",
              "      <td>1</td>\n",
              "      <td>1</td>\n",
              "      <td>0</td>\n",
              "      <td>0</td>\n",
              "      <td>0</td>\n",
              "      <td>0.00000</td>\n",
              "      <td>40</td>\n",
              "      <td>20</td>\n",
              "      <td>0</td>\n",
              "      <td>...</td>\n",
              "      <td>0</td>\n",
              "      <td>1</td>\n",
              "      <td>0</td>\n",
              "      <td>26883</td>\n",
              "      <td>0</td>\n",
              "      <td>0</td>\n",
              "      <td>40</td>\n",
              "      <td>14022018</td>\n",
              "      <td>110327</td>\n",
              "      <td>2</td>\n",
              "    </tr>\n",
              "    <tr>\n",
              "      <th>143796</th>\n",
              "      <td>80</td>\n",
              "      <td>2</td>\n",
              "      <td>0</td>\n",
              "      <td>0</td>\n",
              "      <td>0</td>\n",
              "      <td>0</td>\n",
              "      <td>0.00000</td>\n",
              "      <td>40</td>\n",
              "      <td>0</td>\n",
              "      <td>0</td>\n",
              "      <td>...</td>\n",
              "      <td>0</td>\n",
              "      <td>0</td>\n",
              "      <td>0</td>\n",
              "      <td>32738</td>\n",
              "      <td>-1</td>\n",
              "      <td>0</td>\n",
              "      <td>20</td>\n",
              "      <td>21022018</td>\n",
              "      <td>21408</td>\n",
              "      <td>1</td>\n",
              "    </tr>\n",
              "  </tbody>\n",
              "</table>\n",
              "<p>470004 rows × 22 columns</p>\n",
              "</div>\n",
              "      <button class=\"colab-df-convert\" onclick=\"convertToInteractive('df-fe3b640f-42a4-4c4f-86ab-a0b1e9cb8ab1')\"\n",
              "              title=\"Convert this dataframe to an interactive table.\"\n",
              "              style=\"display:none;\">\n",
              "        \n",
              "  <svg xmlns=\"http://www.w3.org/2000/svg\" height=\"24px\"viewBox=\"0 0 24 24\"\n",
              "       width=\"24px\">\n",
              "    <path d=\"M0 0h24v24H0V0z\" fill=\"none\"/>\n",
              "    <path d=\"M18.56 5.44l.94 2.06.94-2.06 2.06-.94-2.06-.94-.94-2.06-.94 2.06-2.06.94zm-11 1L8.5 8.5l.94-2.06 2.06-.94-2.06-.94L8.5 2.5l-.94 2.06-2.06.94zm10 10l.94 2.06.94-2.06 2.06-.94-2.06-.94-.94-2.06-.94 2.06-2.06.94z\"/><path d=\"M17.41 7.96l-1.37-1.37c-.4-.4-.92-.59-1.43-.59-.52 0-1.04.2-1.43.59L10.3 9.45l-7.72 7.72c-.78.78-.78 2.05 0 2.83L4 21.41c.39.39.9.59 1.41.59.51 0 1.02-.2 1.41-.59l7.78-7.78 2.81-2.81c.8-.78.8-2.07 0-2.86zM5.41 20L4 18.59l7.72-7.72 1.47 1.35L5.41 20z\"/>\n",
              "  </svg>\n",
              "      </button>\n",
              "      \n",
              "  <style>\n",
              "    .colab-df-container {\n",
              "      display:flex;\n",
              "      flex-wrap:wrap;\n",
              "      gap: 12px;\n",
              "    }\n",
              "\n",
              "    .colab-df-convert {\n",
              "      background-color: #E8F0FE;\n",
              "      border: none;\n",
              "      border-radius: 50%;\n",
              "      cursor: pointer;\n",
              "      display: none;\n",
              "      fill: #1967D2;\n",
              "      height: 32px;\n",
              "      padding: 0 0 0 0;\n",
              "      width: 32px;\n",
              "    }\n",
              "\n",
              "    .colab-df-convert:hover {\n",
              "      background-color: #E2EBFA;\n",
              "      box-shadow: 0px 1px 2px rgba(60, 64, 67, 0.3), 0px 1px 3px 1px rgba(60, 64, 67, 0.15);\n",
              "      fill: #174EA6;\n",
              "    }\n",
              "\n",
              "    [theme=dark] .colab-df-convert {\n",
              "      background-color: #3B4455;\n",
              "      fill: #D2E3FC;\n",
              "    }\n",
              "\n",
              "    [theme=dark] .colab-df-convert:hover {\n",
              "      background-color: #434B5C;\n",
              "      box-shadow: 0px 1px 3px 1px rgba(0, 0, 0, 0.15);\n",
              "      filter: drop-shadow(0px 1px 2px rgba(0, 0, 0, 0.3));\n",
              "      fill: #FFFFFF;\n",
              "    }\n",
              "  </style>\n",
              "\n",
              "      <script>\n",
              "        const buttonEl =\n",
              "          document.querySelector('#df-fe3b640f-42a4-4c4f-86ab-a0b1e9cb8ab1 button.colab-df-convert');\n",
              "        buttonEl.style.display =\n",
              "          google.colab.kernel.accessAllowed ? 'block' : 'none';\n",
              "\n",
              "        async function convertToInteractive(key) {\n",
              "          const element = document.querySelector('#df-fe3b640f-42a4-4c4f-86ab-a0b1e9cb8ab1');\n",
              "          const dataTable =\n",
              "            await google.colab.kernel.invokeFunction('convertToInteractive',\n",
              "                                                     [key], {});\n",
              "          if (!dataTable) return;\n",
              "\n",
              "          const docLinkHtml = 'Like what you see? Visit the ' +\n",
              "            '<a target=\"_blank\" href=https://colab.research.google.com/notebooks/data_table.ipynb>data table notebook</a>'\n",
              "            + ' to learn more about interactive tables.';\n",
              "          element.innerHTML = '';\n",
              "          dataTable['output_type'] = 'display_data';\n",
              "          await google.colab.output.renderOutput(dataTable, element);\n",
              "          const docLink = document.createElement('div');\n",
              "          docLink.innerHTML = docLinkHtml;\n",
              "          element.appendChild(docLink);\n",
              "        }\n",
              "      </script>\n",
              "    </div>\n",
              "  </div>\n",
              "  "
            ]
          },
          "metadata": {},
          "execution_count": 36
        }
      ]
    },
    {
      "cell_type": "code",
      "source": [
        "data, target = df.drop(columns = ['label']), df['label']"
      ],
      "metadata": {
        "id": "ruhyizaM1iTC"
      },
      "execution_count": null,
      "outputs": []
    },
    {
      "cell_type": "code",
      "source": [
        "print(data.shape, target.shape)"
      ],
      "metadata": {
        "colab": {
          "base_uri": "https://localhost:8080/"
        },
        "id": "gQzrhoHe16BJ",
        "outputId": "b2476be5-ddaa-452c-f015-310c7976c61d"
      },
      "execution_count": null,
      "outputs": [
        {
          "output_type": "stream",
          "name": "stdout",
          "text": [
            "(470004, 21) (470004,)\n"
          ]
        }
      ]
    },
    {
      "cell_type": "code",
      "source": [
        "#num_col = list(set(data.columns))\n",
        "#사용할 특징\n",
        "num_col = ['Date',\n",
        " 'Fwd Seg Size Min',\n",
        " 'Dst Port',\n",
        " 'Init Fwd Win Byts',\n",
        " 'Bwd Header Len',\n",
        " 'Fwd Header Len',\n",
        " 'Time',\n",
        " 'Fwd Act Data Pkts',\n",
        " 'Subflow Fwd Byts',\n",
        " 'Subflow Bwd Pkts',\n",
        " 'Tot Bwd Pkts',\n",
        " 'Tot Fwd Pkts',\n",
        " 'TotLen Fwd Pkts',\n",
        " 'TotLen Bwd Pkts',\n",
        " 'Init Bwd Win Byts',\n",
        " 'Subflow Bwd Byts',\n",
        " 'Subflow Fwd Pkts',\n",
        " 'ECE Flag Cnt',\n",
        " 'RST Flag Cnt',\n",
        " 'Fwd Pkt Len Max',\n",
        " 'Bwd Pkt Len Std']"
      ],
      "metadata": {
        "id": "Z0_54R2B16D3"
      },
      "execution_count": null,
      "outputs": []
    },
    {
      "cell_type": "code",
      "source": [
        "len(num_col)"
      ],
      "metadata": {
        "colab": {
          "base_uri": "https://localhost:8080/"
        },
        "id": "R8o9OSURBxGf",
        "outputId": "fbd2c770-4216-4757-ae99-f950a26266fa"
      },
      "execution_count": null,
      "outputs": [
        {
          "output_type": "execute_result",
          "data": {
            "text/plain": [
              "21"
            ]
          },
          "metadata": {},
          "execution_count": 40
        }
      ]
    },
    {
      "cell_type": "code",
      "source": [
        "from sklearn.preprocessing import MinMaxScaler\n",
        "\n",
        "scaler = MinMaxScaler()\n",
        "scaler = scaler.fit(data[num_col])\n",
        "data[num_col] = scaler.transform(data[num_col])"
      ],
      "metadata": {
        "id": "tohcg6St16Jv"
      },
      "execution_count": null,
      "outputs": []
    },
    {
      "cell_type": "code",
      "source": [
        "data.head()"
      ],
      "metadata": {
        "colab": {
          "base_uri": "https://localhost:8080/",
          "height": 314
        },
        "id": "fVoTdsBp23rh",
        "outputId": "3391d5cf-b1dd-47ce-d84f-f0d1e9b8e412"
      },
      "execution_count": null,
      "outputs": [
        {
          "output_type": "execute_result",
          "data": {
            "text/plain": [
              "        Dst Port  Tot Fwd Pkts  Tot Bwd Pkts  TotLen Fwd Pkts  \\\n",
              "487140  0.001221      0.000010      0.000440         0.000010   \n",
              "259628  0.000336      0.000068      0.002422         0.000196   \n",
              "73629   0.001221      0.000003      0.000000         0.000000   \n",
              "131380  0.000320      0.000000      0.000110         0.000000   \n",
              "102483  0.001221      0.000006      0.000440         0.000031   \n",
              "\n",
              "        TotLen Bwd Pkts  Fwd Pkt Len Max  Bwd Pkt Len Std  Fwd Header Len  \\\n",
              "487140         0.000018         0.001505         0.143436        0.000037   \n",
              "259628         0.000202         0.009932         0.319815        0.000287   \n",
              "73629          0.000000         0.000000         0.000000        0.000016   \n",
              "131380         0.000000         0.000000         0.000000        0.000016   \n",
              "102483         0.000071         0.004795         0.578073        0.000029   \n",
              "\n",
              "        Bwd Header Len  RST Flag Cnt  ...  Subflow Fwd Pkts  Subflow Fwd Byts  \\\n",
              "487140        0.000506           0.0  ...          0.000010          0.000010   \n",
              "259628        0.003919           0.0  ...          0.000068          0.000196   \n",
              "73629         0.000000           0.0  ...          0.000003          0.000000   \n",
              "131380        0.000110           0.0  ...          0.000000          0.000000   \n",
              "102483        0.000506           1.0  ...          0.000006          0.000031   \n",
              "\n",
              "        Subflow Bwd Pkts  Subflow Bwd Byts  Init Fwd Win Byts  \\\n",
              "487140          0.000440          0.000018           0.125015   \n",
              "259628          0.002422          0.000202           0.410217   \n",
              "73629           0.000000          0.000000           0.499557   \n",
              "131380          0.000110          0.000000           0.410217   \n",
              "102483          0.000440          0.000071           1.000000   \n",
              "\n",
              "        Init Bwd Win Byts  Fwd Act Data Pkts  Fwd Seg Size Min      Date  \\\n",
              "487140           0.002167           0.000003          0.416667  0.562775   \n",
              "259628           0.003525           0.000052          0.666667  0.562775   \n",
              "73629            0.000000           0.000000          0.416667  1.000000   \n",
              "131380           0.000015           0.000000          0.833333  0.562775   \n",
              "102483           0.003357           0.000003          0.416667  1.000000   \n",
              "\n",
              "            Time  \n",
              "487140  0.782499  \n",
              "259628  0.126856  \n",
              "73629   0.096932  \n",
              "131380  0.896195  \n",
              "102483  0.097587  \n",
              "\n",
              "[5 rows x 21 columns]"
            ],
            "text/html": [
              "\n",
              "  <div id=\"df-88893c87-3970-4b62-878e-6199fbfd4684\">\n",
              "    <div class=\"colab-df-container\">\n",
              "      <div>\n",
              "<style scoped>\n",
              "    .dataframe tbody tr th:only-of-type {\n",
              "        vertical-align: middle;\n",
              "    }\n",
              "\n",
              "    .dataframe tbody tr th {\n",
              "        vertical-align: top;\n",
              "    }\n",
              "\n",
              "    .dataframe thead th {\n",
              "        text-align: right;\n",
              "    }\n",
              "</style>\n",
              "<table border=\"1\" class=\"dataframe\">\n",
              "  <thead>\n",
              "    <tr style=\"text-align: right;\">\n",
              "      <th></th>\n",
              "      <th>Dst Port</th>\n",
              "      <th>Tot Fwd Pkts</th>\n",
              "      <th>Tot Bwd Pkts</th>\n",
              "      <th>TotLen Fwd Pkts</th>\n",
              "      <th>TotLen Bwd Pkts</th>\n",
              "      <th>Fwd Pkt Len Max</th>\n",
              "      <th>Bwd Pkt Len Std</th>\n",
              "      <th>Fwd Header Len</th>\n",
              "      <th>Bwd Header Len</th>\n",
              "      <th>RST Flag Cnt</th>\n",
              "      <th>...</th>\n",
              "      <th>Subflow Fwd Pkts</th>\n",
              "      <th>Subflow Fwd Byts</th>\n",
              "      <th>Subflow Bwd Pkts</th>\n",
              "      <th>Subflow Bwd Byts</th>\n",
              "      <th>Init Fwd Win Byts</th>\n",
              "      <th>Init Bwd Win Byts</th>\n",
              "      <th>Fwd Act Data Pkts</th>\n",
              "      <th>Fwd Seg Size Min</th>\n",
              "      <th>Date</th>\n",
              "      <th>Time</th>\n",
              "    </tr>\n",
              "  </thead>\n",
              "  <tbody>\n",
              "    <tr>\n",
              "      <th>487140</th>\n",
              "      <td>0.001221</td>\n",
              "      <td>0.000010</td>\n",
              "      <td>0.000440</td>\n",
              "      <td>0.000010</td>\n",
              "      <td>0.000018</td>\n",
              "      <td>0.001505</td>\n",
              "      <td>0.143436</td>\n",
              "      <td>0.000037</td>\n",
              "      <td>0.000506</td>\n",
              "      <td>0.0</td>\n",
              "      <td>...</td>\n",
              "      <td>0.000010</td>\n",
              "      <td>0.000010</td>\n",
              "      <td>0.000440</td>\n",
              "      <td>0.000018</td>\n",
              "      <td>0.125015</td>\n",
              "      <td>0.002167</td>\n",
              "      <td>0.000003</td>\n",
              "      <td>0.416667</td>\n",
              "      <td>0.562775</td>\n",
              "      <td>0.782499</td>\n",
              "    </tr>\n",
              "    <tr>\n",
              "      <th>259628</th>\n",
              "      <td>0.000336</td>\n",
              "      <td>0.000068</td>\n",
              "      <td>0.002422</td>\n",
              "      <td>0.000196</td>\n",
              "      <td>0.000202</td>\n",
              "      <td>0.009932</td>\n",
              "      <td>0.319815</td>\n",
              "      <td>0.000287</td>\n",
              "      <td>0.003919</td>\n",
              "      <td>0.0</td>\n",
              "      <td>...</td>\n",
              "      <td>0.000068</td>\n",
              "      <td>0.000196</td>\n",
              "      <td>0.002422</td>\n",
              "      <td>0.000202</td>\n",
              "      <td>0.410217</td>\n",
              "      <td>0.003525</td>\n",
              "      <td>0.000052</td>\n",
              "      <td>0.666667</td>\n",
              "      <td>0.562775</td>\n",
              "      <td>0.126856</td>\n",
              "    </tr>\n",
              "    <tr>\n",
              "      <th>73629</th>\n",
              "      <td>0.001221</td>\n",
              "      <td>0.000003</td>\n",
              "      <td>0.000000</td>\n",
              "      <td>0.000000</td>\n",
              "      <td>0.000000</td>\n",
              "      <td>0.000000</td>\n",
              "      <td>0.000000</td>\n",
              "      <td>0.000016</td>\n",
              "      <td>0.000000</td>\n",
              "      <td>0.0</td>\n",
              "      <td>...</td>\n",
              "      <td>0.000003</td>\n",
              "      <td>0.000000</td>\n",
              "      <td>0.000000</td>\n",
              "      <td>0.000000</td>\n",
              "      <td>0.499557</td>\n",
              "      <td>0.000000</td>\n",
              "      <td>0.000000</td>\n",
              "      <td>0.416667</td>\n",
              "      <td>1.000000</td>\n",
              "      <td>0.096932</td>\n",
              "    </tr>\n",
              "    <tr>\n",
              "      <th>131380</th>\n",
              "      <td>0.000320</td>\n",
              "      <td>0.000000</td>\n",
              "      <td>0.000110</td>\n",
              "      <td>0.000000</td>\n",
              "      <td>0.000000</td>\n",
              "      <td>0.000000</td>\n",
              "      <td>0.000000</td>\n",
              "      <td>0.000016</td>\n",
              "      <td>0.000110</td>\n",
              "      <td>0.0</td>\n",
              "      <td>...</td>\n",
              "      <td>0.000000</td>\n",
              "      <td>0.000000</td>\n",
              "      <td>0.000110</td>\n",
              "      <td>0.000000</td>\n",
              "      <td>0.410217</td>\n",
              "      <td>0.000015</td>\n",
              "      <td>0.000000</td>\n",
              "      <td>0.833333</td>\n",
              "      <td>0.562775</td>\n",
              "      <td>0.896195</td>\n",
              "    </tr>\n",
              "    <tr>\n",
              "      <th>102483</th>\n",
              "      <td>0.001221</td>\n",
              "      <td>0.000006</td>\n",
              "      <td>0.000440</td>\n",
              "      <td>0.000031</td>\n",
              "      <td>0.000071</td>\n",
              "      <td>0.004795</td>\n",
              "      <td>0.578073</td>\n",
              "      <td>0.000029</td>\n",
              "      <td>0.000506</td>\n",
              "      <td>1.0</td>\n",
              "      <td>...</td>\n",
              "      <td>0.000006</td>\n",
              "      <td>0.000031</td>\n",
              "      <td>0.000440</td>\n",
              "      <td>0.000071</td>\n",
              "      <td>1.000000</td>\n",
              "      <td>0.003357</td>\n",
              "      <td>0.000003</td>\n",
              "      <td>0.416667</td>\n",
              "      <td>1.000000</td>\n",
              "      <td>0.097587</td>\n",
              "    </tr>\n",
              "  </tbody>\n",
              "</table>\n",
              "<p>5 rows × 21 columns</p>\n",
              "</div>\n",
              "      <button class=\"colab-df-convert\" onclick=\"convertToInteractive('df-88893c87-3970-4b62-878e-6199fbfd4684')\"\n",
              "              title=\"Convert this dataframe to an interactive table.\"\n",
              "              style=\"display:none;\">\n",
              "        \n",
              "  <svg xmlns=\"http://www.w3.org/2000/svg\" height=\"24px\"viewBox=\"0 0 24 24\"\n",
              "       width=\"24px\">\n",
              "    <path d=\"M0 0h24v24H0V0z\" fill=\"none\"/>\n",
              "    <path d=\"M18.56 5.44l.94 2.06.94-2.06 2.06-.94-2.06-.94-.94-2.06-.94 2.06-2.06.94zm-11 1L8.5 8.5l.94-2.06 2.06-.94-2.06-.94L8.5 2.5l-.94 2.06-2.06.94zm10 10l.94 2.06.94-2.06 2.06-.94-2.06-.94-.94-2.06-.94 2.06-2.06.94z\"/><path d=\"M17.41 7.96l-1.37-1.37c-.4-.4-.92-.59-1.43-.59-.52 0-1.04.2-1.43.59L10.3 9.45l-7.72 7.72c-.78.78-.78 2.05 0 2.83L4 21.41c.39.39.9.59 1.41.59.51 0 1.02-.2 1.41-.59l7.78-7.78 2.81-2.81c.8-.78.8-2.07 0-2.86zM5.41 20L4 18.59l7.72-7.72 1.47 1.35L5.41 20z\"/>\n",
              "  </svg>\n",
              "      </button>\n",
              "      \n",
              "  <style>\n",
              "    .colab-df-container {\n",
              "      display:flex;\n",
              "      flex-wrap:wrap;\n",
              "      gap: 12px;\n",
              "    }\n",
              "\n",
              "    .colab-df-convert {\n",
              "      background-color: #E8F0FE;\n",
              "      border: none;\n",
              "      border-radius: 50%;\n",
              "      cursor: pointer;\n",
              "      display: none;\n",
              "      fill: #1967D2;\n",
              "      height: 32px;\n",
              "      padding: 0 0 0 0;\n",
              "      width: 32px;\n",
              "    }\n",
              "\n",
              "    .colab-df-convert:hover {\n",
              "      background-color: #E2EBFA;\n",
              "      box-shadow: 0px 1px 2px rgba(60, 64, 67, 0.3), 0px 1px 3px 1px rgba(60, 64, 67, 0.15);\n",
              "      fill: #174EA6;\n",
              "    }\n",
              "\n",
              "    [theme=dark] .colab-df-convert {\n",
              "      background-color: #3B4455;\n",
              "      fill: #D2E3FC;\n",
              "    }\n",
              "\n",
              "    [theme=dark] .colab-df-convert:hover {\n",
              "      background-color: #434B5C;\n",
              "      box-shadow: 0px 1px 3px 1px rgba(0, 0, 0, 0.15);\n",
              "      filter: drop-shadow(0px 1px 2px rgba(0, 0, 0, 0.3));\n",
              "      fill: #FFFFFF;\n",
              "    }\n",
              "  </style>\n",
              "\n",
              "      <script>\n",
              "        const buttonEl =\n",
              "          document.querySelector('#df-88893c87-3970-4b62-878e-6199fbfd4684 button.colab-df-convert');\n",
              "        buttonEl.style.display =\n",
              "          google.colab.kernel.accessAllowed ? 'block' : 'none';\n",
              "\n",
              "        async function convertToInteractive(key) {\n",
              "          const element = document.querySelector('#df-88893c87-3970-4b62-878e-6199fbfd4684');\n",
              "          const dataTable =\n",
              "            await google.colab.kernel.invokeFunction('convertToInteractive',\n",
              "                                                     [key], {});\n",
              "          if (!dataTable) return;\n",
              "\n",
              "          const docLinkHtml = 'Like what you see? Visit the ' +\n",
              "            '<a target=\"_blank\" href=https://colab.research.google.com/notebooks/data_table.ipynb>data table notebook</a>'\n",
              "            + ' to learn more about interactive tables.';\n",
              "          element.innerHTML = '';\n",
              "          dataTable['output_type'] = 'display_data';\n",
              "          await google.colab.output.renderOutput(dataTable, element);\n",
              "          const docLink = document.createElement('div');\n",
              "          docLink.innerHTML = docLinkHtml;\n",
              "          element.appendChild(docLink);\n",
              "        }\n",
              "      </script>\n",
              "    </div>\n",
              "  </div>\n",
              "  "
            ]
          },
          "metadata": {},
          "execution_count": 42
        }
      ]
    },
    {
      "cell_type": "code",
      "source": [
        "from sklearn.model_selection import train_test_split\n",
        "\n",
        "x_train, x_test, y_train, y_test = train_test_split(data, target, test_size = 0.3, stratify = target, random_state = 22)"
      ],
      "metadata": {
        "id": "Q86vRq3R23tv"
      },
      "execution_count": null,
      "outputs": []
    },
    {
      "cell_type": "code",
      "source": [
        "print(x_train.shape)\n",
        "print(y_test.shape)\n",
        "print(x_test.shape)\n",
        "print(y_test.shape)"
      ],
      "metadata": {
        "colab": {
          "base_uri": "https://localhost:8080/"
        },
        "id": "8QpOKDRU3TlZ",
        "outputId": "97416950-81e9-4d0c-a42b-5381a6ccfe45"
      },
      "execution_count": null,
      "outputs": [
        {
          "output_type": "stream",
          "name": "stdout",
          "text": [
            "(329002, 21)\n",
            "(141002,)\n",
            "(141002, 21)\n",
            "(141002,)\n"
          ]
        }
      ]
    },
    {
      "cell_type": "code",
      "source": [
        "from keras.utils.np_utils import to_categorical\n",
        "\n",
        "y_train = to_categorical(y_train, num_classes=3)\n",
        "y_test = to_categorical(y_test, num_classes=3)"
      ],
      "metadata": {
        "id": "4zN1ErHVS5Oa"
      },
      "execution_count": null,
      "outputs": []
    },
    {
      "cell_type": "code",
      "source": [
        "print(x_train.shape)\n",
        "print(y_test.shape)\n",
        "print(x_test.shape)\n",
        "print(y_test.shape)"
      ],
      "metadata": {
        "colab": {
          "base_uri": "https://localhost:8080/"
        },
        "id": "x5w-Pq4oTQzi",
        "outputId": "dcbc9105-0948-408d-f3f8-094d3247618d"
      },
      "execution_count": null,
      "outputs": [
        {
          "output_type": "stream",
          "name": "stdout",
          "text": [
            "(329002, 21)\n",
            "(141002, 3)\n",
            "(141002, 21)\n",
            "(141002, 3)\n"
          ]
        }
      ]
    },
    {
      "cell_type": "code",
      "source": [
        "#중간 저장\n",
        "x_train.to_csv(\"/content/drive/MyDrive/ids/bf_ddos_data/x_train.csv\", index=False)\n",
        "y_train.to_csv(\"/content/drive/MyDrive/ids/bf_ddos_data/y_train.csv\", index=False)\n",
        "x_test.to_csv(\"/content/drive/MyDrive/ids/bf_ddos_data/x_test.csv\", index=False)\n",
        "y_test.to_csv(\"/content/drive/MyDrive/ids/bf_ddos_data/y_test.csv\", index=False)"
      ],
      "metadata": {
        "colab": {
          "base_uri": "https://localhost:8080/",
          "height": 248
        },
        "id": "_u8Xrt6R3VgX",
        "outputId": "ba18cdc8-03b9-46b6-cef7-40e491c2dda4"
      },
      "execution_count": null,
      "outputs": [
        {
          "output_type": "error",
          "ename": "AttributeError",
          "evalue": "ignored",
          "traceback": [
            "\u001b[0;31m---------------------------------------------------------------------------\u001b[0m",
            "\u001b[0;31mAttributeError\u001b[0m                            Traceback (most recent call last)",
            "\u001b[0;32m<ipython-input-51-ed8581f92855>\u001b[0m in \u001b[0;36m<module>\u001b[0;34m()\u001b[0m\n\u001b[1;32m      1\u001b[0m \u001b[0;31m#중간 저장\u001b[0m\u001b[0;34m\u001b[0m\u001b[0;34m\u001b[0m\u001b[0;34m\u001b[0m\u001b[0m\n\u001b[1;32m      2\u001b[0m \u001b[0mx_train\u001b[0m\u001b[0;34m.\u001b[0m\u001b[0mto_csv\u001b[0m\u001b[0;34m(\u001b[0m\u001b[0;34m\"/content/drive/MyDrive/ids/bf_ddos_data/x_train.csv\"\u001b[0m\u001b[0;34m,\u001b[0m \u001b[0mindex\u001b[0m\u001b[0;34m=\u001b[0m\u001b[0;32mFalse\u001b[0m\u001b[0;34m)\u001b[0m\u001b[0;34m\u001b[0m\u001b[0;34m\u001b[0m\u001b[0m\n\u001b[0;32m----> 3\u001b[0;31m \u001b[0my_train\u001b[0m\u001b[0;34m.\u001b[0m\u001b[0mto_csv\u001b[0m\u001b[0;34m(\u001b[0m\u001b[0;34m\"/content/drive/MyDrive/ids/bf_ddos_data/y_train.csv\"\u001b[0m\u001b[0;34m,\u001b[0m \u001b[0mindex\u001b[0m\u001b[0;34m=\u001b[0m\u001b[0;32mFalse\u001b[0m\u001b[0;34m)\u001b[0m\u001b[0;34m\u001b[0m\u001b[0;34m\u001b[0m\u001b[0m\n\u001b[0m\u001b[1;32m      4\u001b[0m \u001b[0mx_test\u001b[0m\u001b[0;34m.\u001b[0m\u001b[0mto_csv\u001b[0m\u001b[0;34m(\u001b[0m\u001b[0;34m\"/content/drive/MyDrive/ids/bf_ddos_data/x_test.csv\"\u001b[0m\u001b[0;34m,\u001b[0m \u001b[0mindex\u001b[0m\u001b[0;34m=\u001b[0m\u001b[0;32mFalse\u001b[0m\u001b[0;34m)\u001b[0m\u001b[0;34m\u001b[0m\u001b[0;34m\u001b[0m\u001b[0m\n\u001b[1;32m      5\u001b[0m \u001b[0my_test\u001b[0m\u001b[0;34m.\u001b[0m\u001b[0mto_csv\u001b[0m\u001b[0;34m(\u001b[0m\u001b[0;34m\"/content/drive/MyDrive/ids/bf_ddos_data/y_test.csv\"\u001b[0m\u001b[0;34m,\u001b[0m \u001b[0mindex\u001b[0m\u001b[0;34m=\u001b[0m\u001b[0;32mFalse\u001b[0m\u001b[0;34m)\u001b[0m\u001b[0;34m\u001b[0m\u001b[0;34m\u001b[0m\u001b[0m\n",
            "\u001b[0;31mAttributeError\u001b[0m: 'numpy.ndarray' object has no attribute 'to_csv'"
          ]
        }
      ]
    },
    {
      "cell_type": "code",
      "source": [
        "y_test"
      ],
      "metadata": {
        "colab": {
          "base_uri": "https://localhost:8080/"
        },
        "id": "MpMPI41FTsQr",
        "outputId": "8e86f1a2-1c23-4b6f-a89d-36490ecf4586"
      },
      "execution_count": null,
      "outputs": [
        {
          "output_type": "execute_result",
          "data": {
            "text/plain": [
              "array([[0., 1., 0.],\n",
              "       [0., 0., 1.],\n",
              "       [0., 1., 0.],\n",
              "       ...,\n",
              "       [0., 0., 1.],\n",
              "       [0., 1., 0.],\n",
              "       [0., 1., 0.]], dtype=float32)"
            ]
          },
          "metadata": {},
          "execution_count": 52
        }
      ]
    },
    {
      "cell_type": "code",
      "source": [
        "from sklearn.ensemble import RandomForestClassifier\n",
        "from sklearn.inspection import permutation_importance\n",
        "\n",
        "forest = RandomForestClassifier(n_estimators=1000,random_state=0, max_depth=1, max_features='auto')\n",
        "\n",
        "forest.fit(x_train,y_train)\n",
        "\n",
        "print(\"특성 중요도 : \\n{}\".format(forest.feature_importances_))"
      ],
      "metadata": {
        "colab": {
          "base_uri": "https://localhost:8080/"
        },
        "id": "949Rmn2h322I",
        "outputId": "582ffdaf-701a-4dc0-d84c-e7fa5055483c"
      },
      "execution_count": null,
      "outputs": [
        {
          "output_type": "stream",
          "name": "stdout",
          "text": [
            "특성 중요도 : \n",
            "[0.079 0.001 0.    0.034 0.037 0.034 0.027 0.014 0.002 0.    0.003 0.007\n",
            " 0.    0.002 0.011 0.    0.002 0.    0.    0.    0.    0.    0.    0.\n",
            " 0.    0.    0.005 0.004 0.005 0.006 0.    0.    0.    0.    0.    0.06\n",
            " 0.062 0.001 0.001 0.001 0.007 0.002 0.004 0.005 0.    0.    0.015 0.001\n",
            " 0.    0.    0.    0.016 0.    0.003 0.001 0.009 0.    0.    0.    0.\n",
            " 0.    0.    0.022 0.046 0.041 0.023 0.072 0.024 0.05  0.098 0.    0.\n",
            " 0.    0.    0.    0.    0.    0.    0.103 0.06 ]\n"
          ]
        }
      ]
    },
    {
      "cell_type": "code",
      "source": [
        "print(\"훈련 세트 정확도 : {:.3f}\".format(forest.score(x_train,y_train)))\n",
        "\n",
        "print(\"테스트 세트 정확도 : {:.3f}\".format(forest.score(x_test,y_test)))"
      ],
      "metadata": {
        "colab": {
          "base_uri": "https://localhost:8080/"
        },
        "id": "MjfrMkmo4WAq",
        "outputId": "7f09431d-e54e-4eab-e54b-764464618d18"
      },
      "execution_count": null,
      "outputs": [
        {
          "output_type": "stream",
          "name": "stdout",
          "text": [
            "훈련 세트 정확도 : 0.986\n",
            "테스트 세트 정확도 : 0.986\n"
          ]
        }
      ]
    },
    {
      "cell_type": "code",
      "source": [
        "def plt_feature(model):\n",
        "    # 배열형태로 반환\n",
        "    ft_importance_values = model.feature_importances_\n",
        "\n",
        "    # 정렬과 시각화를 쉽게 하기 위해 series 전환\n",
        "    ft_series = pd.Series(ft_importance_values, index = x_train.columns)\n",
        "    ft = ft_series.sort_values(ascending=False)\n",
        "\n",
        "    plt.figure(figsize=(6,15))\n",
        "    plt.title(\"feature importance\")\n",
        "    sns.barplot(x=ft, y=ft.index)\n",
        "\n",
        "    plt.show()"
      ],
      "metadata": {
        "id": "TeUCGp1G7ut1"
      },
      "execution_count": null,
      "outputs": []
    },
    {
      "cell_type": "code",
      "source": [
        "import matplotlib.pyplot as plt\n",
        "import seaborn as sns\n",
        "plt_feature(forest)"
      ],
      "metadata": {
        "colab": {
          "base_uri": "https://localhost:8080/",
          "height": 879
        },
        "id": "J7LWzeFx74X2",
        "outputId": "cd93a9a4-ce85-481e-f96c-c252046aabc9"
      },
      "execution_count": null,
      "outputs": [
        {
          "output_type": "display_data",
          "data": {
            "text/plain": [
              "<Figure size 432x1080 with 1 Axes>"
            ],
            "image/png": "[encoded data removed]"
          },
          "metadata": {
            "needs_background": "light"
          }
        }
      ]
    },
    {
      "cell_type": "code",
      "source": [
        "forest_1 = RandomForestClassifier(n_estimators=100,random_state=0)\n",
        "\n",
        "forest_1.fit(x_train,y_train)\n",
        "\n",
        "print(\"특성 중요도 : \\n{}\".format(forest_1.feature_importances_))"
      ],
      "metadata": {
        "colab": {
          "base_uri": "https://localhost:8080/"
        },
        "id": "FSy9o-oE78lm",
        "outputId": "7d538c88-67b7-4f50-de73-3540c475cd5c"
      },
      "execution_count": null,
      "outputs": [
        {
          "output_type": "stream",
          "name": "stdout",
          "text": [
            "특성 중요도 : \n",
            "[1.01456619e-01 1.29386585e-03 2.87048849e-03 2.93826555e-02\n",
            " 1.71366714e-02 1.74642434e-02 8.53562407e-03 7.62767985e-03\n",
            " 1.52278507e-03 7.50303285e-03 3.65906947e-03 6.07369610e-03\n",
            " 4.28938704e-03 3.28462498e-03 1.88626123e-03 1.53786533e-03\n",
            " 3.47807592e-02 1.02424323e-03 4.95356424e-04 1.83957324e-03\n",
            " 5.51268360e-04 1.29983909e-03 3.86550498e-04 3.14921464e-04\n",
            " 1.49736032e-03 7.06528433e-04 6.45009279e-03 2.97204076e-03\n",
            " 1.74636313e-03 4.80107868e-03 9.20966948e-04 1.10767641e-04\n",
            " 0.00000000e+00 0.00000000e+00 0.00000000e+00 2.84510668e-02\n",
            " 2.87362315e-02 3.41024324e-02 3.15312412e-02 3.24803172e-04\n",
            " 9.27171545e-03 1.11028998e-02 1.15847228e-02 7.06660736e-03\n",
            " 2.45724458e-05 2.20134791e-05 1.14375918e-02 3.75463350e-04\n",
            " 7.24519146e-04 1.56557665e-03 0.00000000e+00 7.00043181e-03\n",
            " 1.95347066e-03 9.32871761e-03 1.64242737e-03 1.18384172e-02\n",
            " 0.00000000e+00 0.00000000e+00 0.00000000e+00 0.00000000e+00\n",
            " 0.00000000e+00 0.00000000e+00 1.88498372e-02 1.96250290e-02\n",
            " 1.80407020e-02 1.64026861e-02 1.06148807e-01 1.80465918e-02\n",
            " 1.54370986e-02 7.76044173e-02 5.65058004e-07 4.55934164e-08\n",
            " 1.44925861e-04 1.42079118e-06 1.34030240e-04 0.00000000e+00\n",
            " 2.24880218e-05 2.48469801e-04 1.59284220e-01 6.65014644e-02]\n"
          ]
        }
      ]
    },
    {
      "cell_type": "code",
      "source": [
        "print(\"훈련 세트 정확도 : {:.3f}\".format(forest_1.score(x_train,y_train)))\n",
        "\n",
        "print(\"테스트 세트 정확도 : {:.3f}\".format(forest_1.score(x_test,y_test)))"
      ],
      "metadata": {
        "colab": {
          "base_uri": "https://localhost:8080/"
        },
        "id": "f7kDlWco89AP",
        "outputId": "083f2e87-9660-43ad-fdf3-faa5bce36d09"
      },
      "execution_count": null,
      "outputs": [
        {
          "output_type": "stream",
          "name": "stdout",
          "text": [
            "훈련 세트 정확도 : 1.000\n",
            "테스트 세트 정확도 : 1.000\n"
          ]
        }
      ]
    },
    {
      "cell_type": "code",
      "source": [
        "plt_feature(forest_1)"
      ],
      "metadata": {
        "colab": {
          "base_uri": "https://localhost:8080/",
          "height": 879
        },
        "id": "zwr0f4uM8nFr",
        "outputId": "9c60496c-1bdc-449a-8517-ce83e0fb5ad0"
      },
      "execution_count": null,
      "outputs": [
        {
          "output_type": "display_data",
          "data": {
            "text/plain": [
              "<Figure size 432x1080 with 1 Axes>"
            ],
            "image/png": "[encoded data removed]"
          },
          "metadata": {
            "needs_background": "light"
          }
        }
      ]
    },
    {
      "cell_type": "code",
      "source": [
        "num = ['Date',\n",
        " 'Fwd Seg Size Min',\n",
        " 'Dst Port',\n",
        " 'Init Fwd Win Byts',\n",
        " 'Bwd Header Len',\n",
        " 'Fwd Header Len',\n",
        " 'Time',\n",
        " 'Fwd Act Data Pkts',\n",
        " 'Subflow Fwd Byts',\n",
        " 'Subflow Bwd Pkts',\n",
        " 'Tot Bwd Pkts',\n",
        " 'Tot Fwd Pkts',\n",
        " 'TotLen Fwd Pkts',\n",
        " 'TotLen Bwd Pkts',\n",
        " 'Init Bwd Win Byts',\n",
        " 'Subflow Bwd Byts',\n",
        " 'Subflow Fwd Pkts',\n",
        " 'ECE Flag Cnt',\n",
        " 'RST Flag Cnt',\n",
        " 'Fwd Pkt Len Max',\n",
        " 'Bwd Pkt Len Std']"
      ],
      "metadata": {
        "id": "aAGukHj38yYM"
      },
      "execution_count": null,
      "outputs": []
    },
    {
      "cell_type": "code",
      "source": [],
      "metadata": {
        "id": "xu9Fz3hdBKYs"
      },
      "execution_count": null,
      "outputs": []
    }
  ]
}