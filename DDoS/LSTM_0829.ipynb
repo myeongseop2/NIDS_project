{
  "nbformat": 4,
  "nbformat_minor": 0,
  "metadata": {
    "colab": {
      "provenance": [],
      "collapsed_sections": [],
      "authorship_tag": "ABX9TyOa+ZTyIQ+v6apVlU+7kY7+"
    },
    "kernelspec": {
      "name": "python3",
      "display_name": "Python 3"
    },
    "language_info": {
      "name": "python"
    },
    "accelerator": "GPU",
    "gpuClass": "standard"
  },
  "cells": [
    {
      "cell_type": "code",
      "execution_count": null,
      "metadata": {
        "id": "T747zDezogk_"
      },
      "outputs": [],
      "source": [
        "import numpy as np \n",
        "import pandas as pd\n",
        "from google.colab import drive"
      ]
    },
    {
      "cell_type": "code",
      "source": [],
      "metadata": {
        "id": "GfVk6_gldZsf"
      },
      "execution_count": null,
      "outputs": []
    },
    {
      "cell_type": "code",
      "source": [
        "drive.mount('/gdrive', force_remount = True)"
      ],
      "metadata": {
        "colab": {
          "base_uri": "https://localhost:8080/"
        },
        "id": "pS8V9Q2fonfS",
        "outputId": "920f5f40-cc20-4f59-bc37-d3fcf54d16a3"
      },
      "execution_count": null,
      "outputs": [
        {
          "output_type": "stream",
          "name": "stdout",
          "text": [
            "Mounted at /gdrive\n"
          ]
        }
      ]
    },
    {
      "cell_type": "code",
      "source": [
        "df = pd.read_csv('/gdrive/MyDrive/0620.csv', sep = \",\", low_memory=False)"
      ],
      "metadata": {
        "id": "WEu5cOBuondK"
      },
      "execution_count": null,
      "outputs": []
    },
    {
      "cell_type": "code",
      "source": [
        "df"
      ],
      "metadata": {
        "colab": {
          "base_uri": "https://localhost:8080/",
          "height": 540
        },
        "id": "KWCweP_8onbE",
        "outputId": "76347abc-2d52-4050-b710-6a219193d291"
      },
      "execution_count": null,
      "outputs": [
        {
          "output_type": "execute_result",
          "data": {
            "text/plain": [
              "             time  Dst Port  Protocol  Flow Duration  Tot Fwd Pkts  \\\n",
              "0        08:33:25      80.0       6.0        37953.0           5.0   \n",
              "1        08:33:06     500.0      17.0    117573474.0           3.0   \n",
              "2        08:33:06     500.0      17.0    117573474.0           3.0   \n",
              "3        08:33:11     500.0      17.0     99743998.0           5.0   \n",
              "4        08:33:11     500.0      17.0     99743999.0           5.0   \n",
              "...           ...       ...       ...            ...           ...   \n",
              "1046840  02:33:29   55484.0       6.0         1252.0           5.0   \n",
              "1046841  02:33:29   57624.0       6.0        19055.0           5.0   \n",
              "1046842  02:33:29   57623.0       6.0        36677.0           5.0   \n",
              "1046843  02:33:29   57625.0       6.0         1849.0           5.0   \n",
              "1046844  02:33:29   58120.0       6.0        20580.0           5.0   \n",
              "\n",
              "         Tot Bwd Pkts  TotLen Fwd Pkts  TotLen Bwd Pkts  Fwd Pkt Len Max  \\\n",
              "0                 3.0            135.0            127.0            135.0   \n",
              "1                 0.0           1500.0              0.0            500.0   \n",
              "2                 0.0           1500.0              0.0            500.0   \n",
              "3                 0.0           2500.0              0.0            500.0   \n",
              "4                 0.0           2500.0              0.0            500.0   \n",
              "...               ...              ...              ...              ...   \n",
              "1046840           2.0            935.0            274.0            935.0   \n",
              "1046841           2.0            935.0            341.0            935.0   \n",
              "1046842           2.0            935.0            341.0            935.0   \n",
              "1046843           2.0            935.0            341.0            935.0   \n",
              "1046844           2.0            935.0            299.0            935.0   \n",
              "\n",
              "         Fwd Pkt Len Min  ...  Fwd Seg Size Min  Active Mean  Active Std  \\\n",
              "0                    0.0  ...              32.0          0.0         0.0   \n",
              "1                  500.0  ...               8.0          0.0         0.0   \n",
              "2                  500.0  ...               8.0          0.0         0.0   \n",
              "3                  500.0  ...               8.0    4000290.0         0.0   \n",
              "4                  500.0  ...               8.0    4000286.0         0.0   \n",
              "...                  ...  ...               ...          ...         ...   \n",
              "1046840              0.0  ...              20.0          0.0         0.0   \n",
              "1046841              0.0  ...              20.0          0.0         0.0   \n",
              "1046842              0.0  ...              20.0          0.0         0.0   \n",
              "1046843              0.0  ...              20.0          0.0         0.0   \n",
              "1046844              0.0  ...              20.0          0.0         0.0   \n",
              "\n",
              "         Active Max  Active Min   Idle Mean    Idle Std    Idle Max  \\\n",
              "0               0.0         0.0         0.0         0.0         0.0   \n",
              "1               0.0         0.0  58800000.0  23800000.0  75600000.0   \n",
              "2               0.0         0.0  58800000.0  23800000.0  75600000.0   \n",
              "3         4000290.0   4000290.0  31900000.0  37900000.0  75600000.0   \n",
              "4         4000286.0   4000286.0  31900000.0  37900000.0  75600000.0   \n",
              "...             ...         ...         ...         ...         ...   \n",
              "1046840         0.0         0.0         0.0         0.0         0.0   \n",
              "1046841         0.0         0.0         0.0         0.0         0.0   \n",
              "1046842         0.0         0.0         0.0         0.0         0.0   \n",
              "1046843         0.0         0.0         0.0         0.0         0.0   \n",
              "1046844         0.0         0.0         0.0         0.0         0.0   \n",
              "\n",
              "           Idle Min  DDOS  \n",
              "0               0.0   0.0  \n",
              "1        42000000.0   0.0  \n",
              "2        42000000.0   0.0  \n",
              "3         7200397.0   0.0  \n",
              "4         7200399.0   0.0  \n",
              "...             ...   ...  \n",
              "1046840         0.0   0.0  \n",
              "1046841         0.0   0.0  \n",
              "1046842         0.0   0.0  \n",
              "1046843         0.0   0.0  \n",
              "1046844         0.0   0.0  \n",
              "\n",
              "[1046845 rows x 80 columns]"
            ],
            "text/html": [
              "\n",
              "  <div id=\"df-1c25f3f6-046d-4da3-a146-d4cdf6396230\">\n",
              "    <div class=\"colab-df-container\">\n",
              "      <div>\n",
              "<style scoped>\n",
              "    .dataframe tbody tr th:only-of-type {\n",
              "        vertical-align: middle;\n",
              "    }\n",
              "\n",
              "    .dataframe tbody tr th {\n",
              "        vertical-align: top;\n",
              "    }\n",
              "\n",
              "    .dataframe thead th {\n",
              "        text-align: right;\n",
              "    }\n",
              "</style>\n",
              "<table border=\"1\" class=\"dataframe\">\n",
              "  <thead>\n",
              "    <tr style=\"text-align: right;\">\n",
              "      <th></th>\n",
              "      <th>time</th>\n",
              "      <th>Dst Port</th>\n",
              "      <th>Protocol</th>\n",
              "      <th>Flow Duration</th>\n",
              "      <th>Tot Fwd Pkts</th>\n",
              "      <th>Tot Bwd Pkts</th>\n",
              "      <th>TotLen Fwd Pkts</th>\n",
              "      <th>TotLen Bwd Pkts</th>\n",
              "      <th>Fwd Pkt Len Max</th>\n",
              "      <th>Fwd Pkt Len Min</th>\n",
              "      <th>...</th>\n",
              "      <th>Fwd Seg Size Min</th>\n",
              "      <th>Active Mean</th>\n",
              "      <th>Active Std</th>\n",
              "      <th>Active Max</th>\n",
              "      <th>Active Min</th>\n",
              "      <th>Idle Mean</th>\n",
              "      <th>Idle Std</th>\n",
              "      <th>Idle Max</th>\n",
              "      <th>Idle Min</th>\n",
              "      <th>DDOS</th>\n",
              "    </tr>\n",
              "  </thead>\n",
              "  <tbody>\n",
              "    <tr>\n",
              "      <th>0</th>\n",
              "      <td>08:33:25</td>\n",
              "      <td>80.0</td>\n",
              "      <td>6.0</td>\n",
              "      <td>37953.0</td>\n",
              "      <td>5.0</td>\n",
              "      <td>3.0</td>\n",
              "      <td>135.0</td>\n",
              "      <td>127.0</td>\n",
              "      <td>135.0</td>\n",
              "      <td>0.0</td>\n",
              "      <td>...</td>\n",
              "      <td>32.0</td>\n",
              "      <td>0.0</td>\n",
              "      <td>0.0</td>\n",
              "      <td>0.0</td>\n",
              "      <td>0.0</td>\n",
              "      <td>0.0</td>\n",
              "      <td>0.0</td>\n",
              "      <td>0.0</td>\n",
              "      <td>0.0</td>\n",
              "      <td>0.0</td>\n",
              "    </tr>\n",
              "    <tr>\n",
              "      <th>1</th>\n",
              "      <td>08:33:06</td>\n",
              "      <td>500.0</td>\n",
              "      <td>17.0</td>\n",
              "      <td>117573474.0</td>\n",
              "      <td>3.0</td>\n",
              "      <td>0.0</td>\n",
              "      <td>1500.0</td>\n",
              "      <td>0.0</td>\n",
              "      <td>500.0</td>\n",
              "      <td>500.0</td>\n",
              "      <td>...</td>\n",
              "      <td>8.0</td>\n",
              "      <td>0.0</td>\n",
              "      <td>0.0</td>\n",
              "      <td>0.0</td>\n",
              "      <td>0.0</td>\n",
              "      <td>58800000.0</td>\n",
              "      <td>23800000.0</td>\n",
              "      <td>75600000.0</td>\n",
              "      <td>42000000.0</td>\n",
              "      <td>0.0</td>\n",
              "    </tr>\n",
              "    <tr>\n",
              "      <th>2</th>\n",
              "      <td>08:33:06</td>\n",
              "      <td>500.0</td>\n",
              "      <td>17.0</td>\n",
              "      <td>117573474.0</td>\n",
              "      <td>3.0</td>\n",
              "      <td>0.0</td>\n",
              "      <td>1500.0</td>\n",
              "      <td>0.0</td>\n",
              "      <td>500.0</td>\n",
              "      <td>500.0</td>\n",
              "      <td>...</td>\n",
              "      <td>8.0</td>\n",
              "      <td>0.0</td>\n",
              "      <td>0.0</td>\n",
              "      <td>0.0</td>\n",
              "      <td>0.0</td>\n",
              "      <td>58800000.0</td>\n",
              "      <td>23800000.0</td>\n",
              "      <td>75600000.0</td>\n",
              "      <td>42000000.0</td>\n",
              "      <td>0.0</td>\n",
              "    </tr>\n",
              "    <tr>\n",
              "      <th>3</th>\n",
              "      <td>08:33:11</td>\n",
              "      <td>500.0</td>\n",
              "      <td>17.0</td>\n",
              "      <td>99743998.0</td>\n",
              "      <td>5.0</td>\n",
              "      <td>0.0</td>\n",
              "      <td>2500.0</td>\n",
              "      <td>0.0</td>\n",
              "      <td>500.0</td>\n",
              "      <td>500.0</td>\n",
              "      <td>...</td>\n",
              "      <td>8.0</td>\n",
              "      <td>4000290.0</td>\n",
              "      <td>0.0</td>\n",
              "      <td>4000290.0</td>\n",
              "      <td>4000290.0</td>\n",
              "      <td>31900000.0</td>\n",
              "      <td>37900000.0</td>\n",
              "      <td>75600000.0</td>\n",
              "      <td>7200397.0</td>\n",
              "      <td>0.0</td>\n",
              "    </tr>\n",
              "    <tr>\n",
              "      <th>4</th>\n",
              "      <td>08:33:11</td>\n",
              "      <td>500.0</td>\n",
              "      <td>17.0</td>\n",
              "      <td>99743999.0</td>\n",
              "      <td>5.0</td>\n",
              "      <td>0.0</td>\n",
              "      <td>2500.0</td>\n",
              "      <td>0.0</td>\n",
              "      <td>500.0</td>\n",
              "      <td>500.0</td>\n",
              "      <td>...</td>\n",
              "      <td>8.0</td>\n",
              "      <td>4000286.0</td>\n",
              "      <td>0.0</td>\n",
              "      <td>4000286.0</td>\n",
              "      <td>4000286.0</td>\n",
              "      <td>31900000.0</td>\n",
              "      <td>37900000.0</td>\n",
              "      <td>75600000.0</td>\n",
              "      <td>7200399.0</td>\n",
              "      <td>0.0</td>\n",
              "    </tr>\n",
              "    <tr>\n",
              "      <th>...</th>\n",
              "      <td>...</td>\n",
              "      <td>...</td>\n",
              "      <td>...</td>\n",
              "      <td>...</td>\n",
              "      <td>...</td>\n",
              "      <td>...</td>\n",
              "      <td>...</td>\n",
              "      <td>...</td>\n",
              "      <td>...</td>\n",
              "      <td>...</td>\n",
              "      <td>...</td>\n",
              "      <td>...</td>\n",
              "      <td>...</td>\n",
              "      <td>...</td>\n",
              "      <td>...</td>\n",
              "      <td>...</td>\n",
              "      <td>...</td>\n",
              "      <td>...</td>\n",
              "      <td>...</td>\n",
              "      <td>...</td>\n",
              "      <td>...</td>\n",
              "    </tr>\n",
              "    <tr>\n",
              "      <th>1046840</th>\n",
              "      <td>02:33:29</td>\n",
              "      <td>55484.0</td>\n",
              "      <td>6.0</td>\n",
              "      <td>1252.0</td>\n",
              "      <td>5.0</td>\n",
              "      <td>2.0</td>\n",
              "      <td>935.0</td>\n",
              "      <td>274.0</td>\n",
              "      <td>935.0</td>\n",
              "      <td>0.0</td>\n",
              "      <td>...</td>\n",
              "      <td>20.0</td>\n",
              "      <td>0.0</td>\n",
              "      <td>0.0</td>\n",
              "      <td>0.0</td>\n",
              "      <td>0.0</td>\n",
              "      <td>0.0</td>\n",
              "      <td>0.0</td>\n",
              "      <td>0.0</td>\n",
              "      <td>0.0</td>\n",
              "      <td>0.0</td>\n",
              "    </tr>\n",
              "    <tr>\n",
              "      <th>1046841</th>\n",
              "      <td>02:33:29</td>\n",
              "      <td>57624.0</td>\n",
              "      <td>6.0</td>\n",
              "      <td>19055.0</td>\n",
              "      <td>5.0</td>\n",
              "      <td>2.0</td>\n",
              "      <td>935.0</td>\n",
              "      <td>341.0</td>\n",
              "      <td>935.0</td>\n",
              "      <td>0.0</td>\n",
              "      <td>...</td>\n",
              "      <td>20.0</td>\n",
              "      <td>0.0</td>\n",
              "      <td>0.0</td>\n",
              "      <td>0.0</td>\n",
              "      <td>0.0</td>\n",
              "      <td>0.0</td>\n",
              "      <td>0.0</td>\n",
              "      <td>0.0</td>\n",
              "      <td>0.0</td>\n",
              "      <td>0.0</td>\n",
              "    </tr>\n",
              "    <tr>\n",
              "      <th>1046842</th>\n",
              "      <td>02:33:29</td>\n",
              "      <td>57623.0</td>\n",
              "      <td>6.0</td>\n",
              "      <td>36677.0</td>\n",
              "      <td>5.0</td>\n",
              "      <td>2.0</td>\n",
              "      <td>935.0</td>\n",
              "      <td>341.0</td>\n",
              "      <td>935.0</td>\n",
              "      <td>0.0</td>\n",
              "      <td>...</td>\n",
              "      <td>20.0</td>\n",
              "      <td>0.0</td>\n",
              "      <td>0.0</td>\n",
              "      <td>0.0</td>\n",
              "      <td>0.0</td>\n",
              "      <td>0.0</td>\n",
              "      <td>0.0</td>\n",
              "      <td>0.0</td>\n",
              "      <td>0.0</td>\n",
              "      <td>0.0</td>\n",
              "    </tr>\n",
              "    <tr>\n",
              "      <th>1046843</th>\n",
              "      <td>02:33:29</td>\n",
              "      <td>57625.0</td>\n",
              "      <td>6.0</td>\n",
              "      <td>1849.0</td>\n",
              "      <td>5.0</td>\n",
              "      <td>2.0</td>\n",
              "      <td>935.0</td>\n",
              "      <td>341.0</td>\n",
              "      <td>935.0</td>\n",
              "      <td>0.0</td>\n",
              "      <td>...</td>\n",
              "      <td>20.0</td>\n",
              "      <td>0.0</td>\n",
              "      <td>0.0</td>\n",
              "      <td>0.0</td>\n",
              "      <td>0.0</td>\n",
              "      <td>0.0</td>\n",
              "      <td>0.0</td>\n",
              "      <td>0.0</td>\n",
              "      <td>0.0</td>\n",
              "      <td>0.0</td>\n",
              "    </tr>\n",
              "    <tr>\n",
              "      <th>1046844</th>\n",
              "      <td>02:33:29</td>\n",
              "      <td>58120.0</td>\n",
              "      <td>6.0</td>\n",
              "      <td>20580.0</td>\n",
              "      <td>5.0</td>\n",
              "      <td>2.0</td>\n",
              "      <td>935.0</td>\n",
              "      <td>299.0</td>\n",
              "      <td>935.0</td>\n",
              "      <td>0.0</td>\n",
              "      <td>...</td>\n",
              "      <td>20.0</td>\n",
              "      <td>0.0</td>\n",
              "      <td>0.0</td>\n",
              "      <td>0.0</td>\n",
              "      <td>0.0</td>\n",
              "      <td>0.0</td>\n",
              "      <td>0.0</td>\n",
              "      <td>0.0</td>\n",
              "      <td>0.0</td>\n",
              "      <td>0.0</td>\n",
              "    </tr>\n",
              "  </tbody>\n",
              "</table>\n",
              "<p>1046845 rows × 80 columns</p>\n",
              "</div>\n",
              "      <button class=\"colab-df-convert\" onclick=\"convertToInteractive('df-1c25f3f6-046d-4da3-a146-d4cdf6396230')\"\n",
              "              title=\"Convert this dataframe to an interactive table.\"\n",
              "              style=\"display:none;\">\n",
              "        \n",
              "  <svg xmlns=\"http://www.w3.org/2000/svg\" height=\"24px\"viewBox=\"0 0 24 24\"\n",
              "       width=\"24px\">\n",
              "    <path d=\"M0 0h24v24H0V0z\" fill=\"none\"/>\n",
              "    <path d=\"M18.56 5.44l.94 2.06.94-2.06 2.06-.94-2.06-.94-.94-2.06-.94 2.06-2.06.94zm-11 1L8.5 8.5l.94-2.06 2.06-.94-2.06-.94L8.5 2.5l-.94 2.06-2.06.94zm10 10l.94 2.06.94-2.06 2.06-.94-2.06-.94-.94-2.06-.94 2.06-2.06.94z\"/><path d=\"M17.41 7.96l-1.37-1.37c-.4-.4-.92-.59-1.43-.59-.52 0-1.04.2-1.43.59L10.3 9.45l-7.72 7.72c-.78.78-.78 2.05 0 2.83L4 21.41c.39.39.9.59 1.41.59.51 0 1.02-.2 1.41-.59l7.78-7.78 2.81-2.81c.8-.78.8-2.07 0-2.86zM5.41 20L4 18.59l7.72-7.72 1.47 1.35L5.41 20z\"/>\n",
              "  </svg>\n",
              "      </button>\n",
              "      \n",
              "  <style>\n",
              "    .colab-df-container {\n",
              "      display:flex;\n",
              "      flex-wrap:wrap;\n",
              "      gap: 12px;\n",
              "    }\n",
              "\n",
              "    .colab-df-convert {\n",
              "      background-color: #E8F0FE;\n",
              "      border: none;\n",
              "      border-radius: 50%;\n",
              "      cursor: pointer;\n",
              "      display: none;\n",
              "      fill: #1967D2;\n",
              "      height: 32px;\n",
              "      padding: 0 0 0 0;\n",
              "      width: 32px;\n",
              "    }\n",
              "\n",
              "    .colab-df-convert:hover {\n",
              "      background-color: #E2EBFA;\n",
              "      box-shadow: 0px 1px 2px rgba(60, 64, 67, 0.3), 0px 1px 3px 1px rgba(60, 64, 67, 0.15);\n",
              "      fill: #174EA6;\n",
              "    }\n",
              "\n",
              "    [theme=dark] .colab-df-convert {\n",
              "      background-color: #3B4455;\n",
              "      fill: #D2E3FC;\n",
              "    }\n",
              "\n",
              "    [theme=dark] .colab-df-convert:hover {\n",
              "      background-color: #434B5C;\n",
              "      box-shadow: 0px 1px 3px 1px rgba(0, 0, 0, 0.15);\n",
              "      filter: drop-shadow(0px 1px 2px rgba(0, 0, 0, 0.3));\n",
              "      fill: #FFFFFF;\n",
              "    }\n",
              "  </style>\n",
              "\n",
              "      <script>\n",
              "        const buttonEl =\n",
              "          document.querySelector('#df-1c25f3f6-046d-4da3-a146-d4cdf6396230 button.colab-df-convert');\n",
              "        buttonEl.style.display =\n",
              "          google.colab.kernel.accessAllowed ? 'block' : 'none';\n",
              "\n",
              "        async function convertToInteractive(key) {\n",
              "          const element = document.querySelector('#df-1c25f3f6-046d-4da3-a146-d4cdf6396230');\n",
              "          const dataTable =\n",
              "            await google.colab.kernel.invokeFunction('convertToInteractive',\n",
              "                                                     [key], {});\n",
              "          if (!dataTable) return;\n",
              "\n",
              "          const docLinkHtml = 'Like what you see? Visit the ' +\n",
              "            '<a target=\"_blank\" href=https://colab.research.google.com/notebooks/data_table.ipynb>data table notebook</a>'\n",
              "            + ' to learn more about interactive tables.';\n",
              "          element.innerHTML = '';\n",
              "          dataTable['output_type'] = 'display_data';\n",
              "          await google.colab.output.renderOutput(dataTable, element);\n",
              "          const docLink = document.createElement('div');\n",
              "          docLink.innerHTML = docLinkHtml;\n",
              "          element.appendChild(docLink);\n",
              "        }\n",
              "      </script>\n",
              "    </div>\n",
              "  </div>\n",
              "  "
            ]
          },
          "metadata": {},
          "execution_count": 4
        }
      ]
    },
    {
      "cell_type": "code",
      "source": [
        "K = df.copy()"
      ],
      "metadata": {
        "id": "UFzRgEDlonYr"
      },
      "execution_count": null,
      "outputs": []
    },
    {
      "cell_type": "code",
      "source": [
        "K['time']"
      ],
      "metadata": {
        "colab": {
          "base_uri": "https://localhost:8080/"
        },
        "id": "FQkyfQdIonWj",
        "outputId": "3b6be7e5-c587-4a68-abc3-cdf776276e10"
      },
      "execution_count": null,
      "outputs": [
        {
          "output_type": "execute_result",
          "data": {
            "text/plain": [
              "0          08:33:25\n",
              "1          08:33:06\n",
              "2          08:33:06\n",
              "3          08:33:11\n",
              "4          08:33:11\n",
              "             ...   \n",
              "1046840    02:33:29\n",
              "1046841    02:33:29\n",
              "1046842    02:33:29\n",
              "1046843    02:33:29\n",
              "1046844    02:33:29\n",
              "Name: time, Length: 1046845, dtype: object"
            ]
          },
          "metadata": {},
          "execution_count": 6
        }
      ]
    },
    {
      "cell_type": "code",
      "source": [
        "K['time'].replace(':','',regex=True, inplace=True)"
      ],
      "metadata": {
        "id": "rnuM-mwJonUS"
      },
      "execution_count": null,
      "outputs": []
    },
    {
      "cell_type": "code",
      "source": [
        "K['time'].astype('float')"
      ],
      "metadata": {
        "colab": {
          "base_uri": "https://localhost:8080/"
        },
        "id": "CD5w-9-LonR8",
        "outputId": "52f7e6f0-2814-43fd-f8a3-c8334ad5a488"
      },
      "execution_count": null,
      "outputs": [
        {
          "output_type": "execute_result",
          "data": {
            "text/plain": [
              "0          83325.0\n",
              "1          83306.0\n",
              "2          83306.0\n",
              "3          83311.0\n",
              "4          83311.0\n",
              "            ...   \n",
              "1046840    23329.0\n",
              "1046841    23329.0\n",
              "1046842    23329.0\n",
              "1046843    23329.0\n",
              "1046844    23329.0\n",
              "Name: time, Length: 1046845, dtype: float64"
            ]
          },
          "metadata": {},
          "execution_count": 8
        }
      ]
    },
    {
      "cell_type": "code",
      "source": [
        "test = K[['Fwd Header Len', 'Tot Fwd Pkts', 'Fwd Seg Size Avg', \n",
        "             'Subflow Fwd Byts', 'Init Bwd Win Byts', 'Fwd Pkt Len Std', 'Flow IAT Std', \n",
        "            'Bwd IAT Min', 'Bwd Seg Size Avg', 'ACK Flag Cnt', 'Tot Bwd Pkts', 'Bwd Pkt Len Mean', 'Pkt Len Mean', \n",
        "         'Pkt Len Max', 'Subflow Bwd Pkts', 'Flow IAT Min', 'TotLen Bwd Pkts', 'Bwd Pkt Len Std', 'Flow IAT Max', 'Flow Duration', 'Fwd IAT Tot', 'DDOS']]"
      ],
      "metadata": {
        "id": "I2UhciUnqKey"
      },
      "execution_count": null,
      "outputs": []
    },
    {
      "cell_type": "code",
      "source": [],
      "metadata": {
        "id": "3mXqAxYxqKbi"
      },
      "execution_count": null,
      "outputs": []
    },
    {
      "cell_type": "code",
      "source": [
        "test = test.sample(frac=0.1)"
      ],
      "metadata": {
        "id": "l9vnhNuL39cz"
      },
      "execution_count": null,
      "outputs": []
    },
    {
      "cell_type": "code",
      "source": [
        "x = test.drop(['DDOS'], axis =1)\n",
        "y = test['DDOS']\n",
        "test_dataset = test.sample(frac=0.3)"
      ],
      "metadata": {
        "id": "4yQtm8rN11ei"
      },
      "execution_count": null,
      "outputs": []
    },
    {
      "cell_type": "code",
      "source": [
        "from sklearn.model_selection import train_test_split"
      ],
      "metadata": {
        "id": "UPTrVwm711cq"
      },
      "execution_count": null,
      "outputs": []
    },
    {
      "cell_type": "code",
      "source": [
        "x_train, x_test, y_train, y_test = train_test_split(x, y, test_size=0.3)\n"
      ],
      "metadata": {
        "id": "uDaMCJ8311aS"
      },
      "execution_count": null,
      "outputs": []
    },
    {
      "cell_type": "code",
      "source": [
        "print(x_train.shape)\n",
        "\n",
        "print(x_test.shape)\n",
        "print(y_train.shape)\n",
        "\n",
        "print(y_test.shape)"
      ],
      "metadata": {
        "colab": {
          "base_uri": "https://localhost:8080/"
        },
        "id": "4D92yhUh16_l",
        "outputId": "c138c825-b731-4e7f-8559-3d76d7e9e0bc"
      },
      "execution_count": null,
      "outputs": [
        {
          "output_type": "stream",
          "name": "stdout",
          "text": [
            "(73278, 21)\n",
            "(31406, 21)\n",
            "(73278,)\n",
            "(31406,)\n"
          ]
        }
      ]
    },
    {
      "cell_type": "code",
      "source": [
        "y_train = y_train.to_numpy()\n",
        "y_test = y_test.to_numpy()"
      ],
      "metadata": {
        "id": "GHRfh9xE169b"
      },
      "execution_count": null,
      "outputs": []
    },
    {
      "cell_type": "code",
      "source": [
        "y_train.shape"
      ],
      "metadata": {
        "colab": {
          "base_uri": "https://localhost:8080/"
        },
        "id": "mCwwZPik167L",
        "outputId": "b275cd20-4cb9-44cc-881b-29d8d063daa1"
      },
      "execution_count": null,
      "outputs": [
        {
          "output_type": "execute_result",
          "data": {
            "text/plain": [
              "(73278,)"
            ]
          },
          "metadata": {},
          "execution_count": 16
        }
      ]
    },
    {
      "cell_type": "code",
      "source": [
        "y_test.shape"
      ],
      "metadata": {
        "colab": {
          "base_uri": "https://localhost:8080/"
        },
        "id": "-B47Uf8B1648",
        "outputId": "535290d4-41e2-4122-bb23-e91cb6bd4dd4"
      },
      "execution_count": null,
      "outputs": [
        {
          "output_type": "execute_result",
          "data": {
            "text/plain": [
              "(31406,)"
            ]
          },
          "metadata": {},
          "execution_count": 17
        }
      ]
    },
    {
      "cell_type": "code",
      "source": [
        "y_train = y_train.reshape(-1,1)\n",
        "y_test = y_test.reshape(-1,1)"
      ],
      "metadata": {
        "id": "RoOxv3Aw1-PS"
      },
      "execution_count": null,
      "outputs": []
    },
    {
      "cell_type": "code",
      "source": [
        "y_train.shape\n"
      ],
      "metadata": {
        "colab": {
          "base_uri": "https://localhost:8080/"
        },
        "id": "gRY10GS21-Na",
        "outputId": "74d36169-6bf8-43a4-d934-ee452d7d57c1"
      },
      "execution_count": null,
      "outputs": [
        {
          "output_type": "execute_result",
          "data": {
            "text/plain": [
              "(73278, 1)"
            ]
          },
          "metadata": {},
          "execution_count": 19
        }
      ]
    },
    {
      "cell_type": "code",
      "source": [
        "y_test.shape"
      ],
      "metadata": {
        "colab": {
          "base_uri": "https://localhost:8080/"
        },
        "id": "nfXhnfjv1-LC",
        "outputId": "1680f1e4-8245-4e89-f9ac-07c1c4823af1"
      },
      "execution_count": null,
      "outputs": [
        {
          "output_type": "execute_result",
          "data": {
            "text/plain": [
              "(31406, 1)"
            ]
          },
          "metadata": {},
          "execution_count": 20
        }
      ]
    },
    {
      "cell_type": "code",
      "source": [
        "print(x_train.shape)\n",
        "print(x_test.shape)\n",
        "print(y_train.shape)\n",
        "print(y_test.shape)"
      ],
      "metadata": {
        "colab": {
          "base_uri": "https://localhost:8080/"
        },
        "id": "ET9tUt2K1-JL",
        "outputId": "699b95b8-b1d0-498b-e745-94ac5a0383f2"
      },
      "execution_count": null,
      "outputs": [
        {
          "output_type": "stream",
          "name": "stdout",
          "text": [
            "(73278, 21)\n",
            "(31406, 21)\n",
            "(73278, 1)\n",
            "(31406, 1)\n"
          ]
        }
      ]
    },
    {
      "cell_type": "code",
      "source": [
        "y_test"
      ],
      "metadata": {
        "colab": {
          "base_uri": "https://localhost:8080/"
        },
        "id": "2jd2xYx61-Gs",
        "outputId": "3e0019b5-d0d3-4473-8c7f-073b2e9a97dc"
      },
      "execution_count": null,
      "outputs": [
        {
          "output_type": "execute_result",
          "data": {
            "text/plain": [
              "array([[0.],\n",
              "       [1.],\n",
              "       [1.],\n",
              "       ...,\n",
              "       [1.],\n",
              "       [1.],\n",
              "       [1.]])"
            ]
          },
          "metadata": {},
          "execution_count": 22
        }
      ]
    },
    {
      "cell_type": "code",
      "source": [
        "y_test = pd.DataFrame(y_test)"
      ],
      "metadata": {
        "id": "JFjSbL1m2BKS"
      },
      "execution_count": null,
      "outputs": []
    },
    {
      "cell_type": "code",
      "source": [
        "y_train = pd.DataFrame(y_train)"
      ],
      "metadata": {
        "id": "CJV7h-1Z2CCG"
      },
      "execution_count": null,
      "outputs": []
    },
    {
      "cell_type": "code",
      "source": [
        "y_test"
      ],
      "metadata": {
        "colab": {
          "base_uri": "https://localhost:8080/",
          "height": 424
        },
        "id": "yZDMweM82CAW",
        "outputId": "6ed35338-fa3c-4f30-c91d-881775028bae"
      },
      "execution_count": null,
      "outputs": [
        {
          "output_type": "execute_result",
          "data": {
            "text/plain": [
              "         0\n",
              "0      0.0\n",
              "1      1.0\n",
              "2      1.0\n",
              "3      1.0\n",
              "4      1.0\n",
              "...    ...\n",
              "31401  1.0\n",
              "31402  1.0\n",
              "31403  1.0\n",
              "31404  1.0\n",
              "31405  1.0\n",
              "\n",
              "[31406 rows x 1 columns]"
            ],
            "text/html": [
              "\n",
              "  <div id=\"df-584f4051-c10d-4005-a42a-319fb541559e\">\n",
              "    <div class=\"colab-df-container\">\n",
              "      <div>\n",
              "<style scoped>\n",
              "    .dataframe tbody tr th:only-of-type {\n",
              "        vertical-align: middle;\n",
              "    }\n",
              "\n",
              "    .dataframe tbody tr th {\n",
              "        vertical-align: top;\n",
              "    }\n",
              "\n",
              "    .dataframe thead th {\n",
              "        text-align: right;\n",
              "    }\n",
              "</style>\n",
              "<table border=\"1\" class=\"dataframe\">\n",
              "  <thead>\n",
              "    <tr style=\"text-align: right;\">\n",
              "      <th></th>\n",
              "      <th>0</th>\n",
              "    </tr>\n",
              "  </thead>\n",
              "  <tbody>\n",
              "    <tr>\n",
              "      <th>0</th>\n",
              "      <td>0.0</td>\n",
              "    </tr>\n",
              "    <tr>\n",
              "      <th>1</th>\n",
              "      <td>1.0</td>\n",
              "    </tr>\n",
              "    <tr>\n",
              "      <th>2</th>\n",
              "      <td>1.0</td>\n",
              "    </tr>\n",
              "    <tr>\n",
              "      <th>3</th>\n",
              "      <td>1.0</td>\n",
              "    </tr>\n",
              "    <tr>\n",
              "      <th>4</th>\n",
              "      <td>1.0</td>\n",
              "    </tr>\n",
              "    <tr>\n",
              "      <th>...</th>\n",
              "      <td>...</td>\n",
              "    </tr>\n",
              "    <tr>\n",
              "      <th>31401</th>\n",
              "      <td>1.0</td>\n",
              "    </tr>\n",
              "    <tr>\n",
              "      <th>31402</th>\n",
              "      <td>1.0</td>\n",
              "    </tr>\n",
              "    <tr>\n",
              "      <th>31403</th>\n",
              "      <td>1.0</td>\n",
              "    </tr>\n",
              "    <tr>\n",
              "      <th>31404</th>\n",
              "      <td>1.0</td>\n",
              "    </tr>\n",
              "    <tr>\n",
              "      <th>31405</th>\n",
              "      <td>1.0</td>\n",
              "    </tr>\n",
              "  </tbody>\n",
              "</table>\n",
              "<p>31406 rows × 1 columns</p>\n",
              "</div>\n",
              "      <button class=\"colab-df-convert\" onclick=\"convertToInteractive('df-584f4051-c10d-4005-a42a-319fb541559e')\"\n",
              "              title=\"Convert this dataframe to an interactive table.\"\n",
              "              style=\"display:none;\">\n",
              "        \n",
              "  <svg xmlns=\"http://www.w3.org/2000/svg\" height=\"24px\"viewBox=\"0 0 24 24\"\n",
              "       width=\"24px\">\n",
              "    <path d=\"M0 0h24v24H0V0z\" fill=\"none\"/>\n",
              "    <path d=\"M18.56 5.44l.94 2.06.94-2.06 2.06-.94-2.06-.94-.94-2.06-.94 2.06-2.06.94zm-11 1L8.5 8.5l.94-2.06 2.06-.94-2.06-.94L8.5 2.5l-.94 2.06-2.06.94zm10 10l.94 2.06.94-2.06 2.06-.94-2.06-.94-.94-2.06-.94 2.06-2.06.94z\"/><path d=\"M17.41 7.96l-1.37-1.37c-.4-.4-.92-.59-1.43-.59-.52 0-1.04.2-1.43.59L10.3 9.45l-7.72 7.72c-.78.78-.78 2.05 0 2.83L4 21.41c.39.39.9.59 1.41.59.51 0 1.02-.2 1.41-.59l7.78-7.78 2.81-2.81c.8-.78.8-2.07 0-2.86zM5.41 20L4 18.59l7.72-7.72 1.47 1.35L5.41 20z\"/>\n",
              "  </svg>\n",
              "      </button>\n",
              "      \n",
              "  <style>\n",
              "    .colab-df-container {\n",
              "      display:flex;\n",
              "      flex-wrap:wrap;\n",
              "      gap: 12px;\n",
              "    }\n",
              "\n",
              "    .colab-df-convert {\n",
              "      background-color: #E8F0FE;\n",
              "      border: none;\n",
              "      border-radius: 50%;\n",
              "      cursor: pointer;\n",
              "      display: none;\n",
              "      fill: #1967D2;\n",
              "      height: 32px;\n",
              "      padding: 0 0 0 0;\n",
              "      width: 32px;\n",
              "    }\n",
              "\n",
              "    .colab-df-convert:hover {\n",
              "      background-color: #E2EBFA;\n",
              "      box-shadow: 0px 1px 2px rgba(60, 64, 67, 0.3), 0px 1px 3px 1px rgba(60, 64, 67, 0.15);\n",
              "      fill: #174EA6;\n",
              "    }\n",
              "\n",
              "    [theme=dark] .colab-df-convert {\n",
              "      background-color: #3B4455;\n",
              "      fill: #D2E3FC;\n",
              "    }\n",
              "\n",
              "    [theme=dark] .colab-df-convert:hover {\n",
              "      background-color: #434B5C;\n",
              "      box-shadow: 0px 1px 3px 1px rgba(0, 0, 0, 0.15);\n",
              "      filter: drop-shadow(0px 1px 2px rgba(0, 0, 0, 0.3));\n",
              "      fill: #FFFFFF;\n",
              "    }\n",
              "  </style>\n",
              "\n",
              "      <script>\n",
              "        const buttonEl =\n",
              "          document.querySelector('#df-584f4051-c10d-4005-a42a-319fb541559e button.colab-df-convert');\n",
              "        buttonEl.style.display =\n",
              "          google.colab.kernel.accessAllowed ? 'block' : 'none';\n",
              "\n",
              "        async function convertToInteractive(key) {\n",
              "          const element = document.querySelector('#df-584f4051-c10d-4005-a42a-319fb541559e');\n",
              "          const dataTable =\n",
              "            await google.colab.kernel.invokeFunction('convertToInteractive',\n",
              "                                                     [key], {});\n",
              "          if (!dataTable) return;\n",
              "\n",
              "          const docLinkHtml = 'Like what you see? Visit the ' +\n",
              "            '<a target=\"_blank\" href=https://colab.research.google.com/notebooks/data_table.ipynb>data table notebook</a>'\n",
              "            + ' to learn more about interactive tables.';\n",
              "          element.innerHTML = '';\n",
              "          dataTable['output_type'] = 'display_data';\n",
              "          await google.colab.output.renderOutput(dataTable, element);\n",
              "          const docLink = document.createElement('div');\n",
              "          docLink.innerHTML = docLinkHtml;\n",
              "          element.appendChild(docLink);\n",
              "        }\n",
              "      </script>\n",
              "    </div>\n",
              "  </div>\n",
              "  "
            ]
          },
          "metadata": {},
          "execution_count": 25
        }
      ]
    },
    {
      "cell_type": "code",
      "source": [
        "x_train = np.array(x_train)\n",
        "y_train = np.array(y_train)\n",
        "\n",
        "x_test = np.array(x_test)\n",
        "y_test = np.array(y_test)"
      ],
      "metadata": {
        "id": "Tefqqs-h2B-S"
      },
      "execution_count": null,
      "outputs": []
    },
    {
      "cell_type": "code",
      "source": [
        "x_train.shape"
      ],
      "metadata": {
        "colab": {
          "base_uri": "https://localhost:8080/"
        },
        "id": "YTqsHp6-2B76",
        "outputId": "c293418a-ffd4-42e5-cda2-1e9504b57e83"
      },
      "execution_count": null,
      "outputs": [
        {
          "output_type": "execute_result",
          "data": {
            "text/plain": [
              "(73278, 21)"
            ]
          },
          "metadata": {},
          "execution_count": 27
        }
      ]
    },
    {
      "cell_type": "code",
      "source": [
        "print(x_train.shape)\n",
        "print(y_train.shape)\n",
        "print(x_test.shape)"
      ],
      "metadata": {
        "colab": {
          "base_uri": "https://localhost:8080/"
        },
        "id": "3Kc8e2bx2B6K",
        "outputId": "ed7904bd-fd19-426e-8037-742d766be2c6"
      },
      "execution_count": null,
      "outputs": [
        {
          "output_type": "stream",
          "name": "stdout",
          "text": [
            "(73278, 21)\n",
            "(73278, 1)\n",
            "(31406, 21)\n"
          ]
        }
      ]
    },
    {
      "cell_type": "code",
      "source": [
        "x_train = np.reshape(x_train, (73278, 1, 21))\n",
        "x_test = np.reshape(x_test, (31406, 1, 21))"
      ],
      "metadata": {
        "id": "dA8hmKwj2BH6"
      },
      "execution_count": null,
      "outputs": []
    },
    {
      "cell_type": "code",
      "source": [
        "x_train.shape"
      ],
      "metadata": {
        "colab": {
          "base_uri": "https://localhost:8080/"
        },
        "id": "S8_lk7Na2BF6",
        "outputId": "2c6c0ae1-5a8d-4ffd-a2df-b9f2263278ae"
      },
      "execution_count": null,
      "outputs": [
        {
          "output_type": "execute_result",
          "data": {
            "text/plain": [
              "(73278, 1, 21)"
            ]
          },
          "metadata": {},
          "execution_count": 30
        }
      ]
    },
    {
      "cell_type": "code",
      "source": [
        "import pandas as pd\n",
        "import numpy as np\n",
        "from sklearn.metrics import accuracy_score, classification_report, confusion_matrix\n",
        "import tensorflow as tf\n",
        "from tensorflow.keras.models import Sequential\n",
        "from tensorflow.keras.layers import Dense, Dropout, LSTM\n",
        "from tensorflow.compat.v1.keras.layers import CuDNNLSTM"
      ],
      "metadata": {
        "id": "QhYMQFnXFUzZ"
      },
      "execution_count": null,
      "outputs": []
    },
    {
      "cell_type": "code",
      "source": [
        "model = Sequential()\n",
        "\n",
        "\n",
        "model.add(CuDNNLSTM(128, input_shape=(1,21), return_sequences=True))\n",
        "model.add(Dropout(0.2))\n",
        "\n",
        "model.add(CuDNNLSTM(128))\n",
        "model.add(Dropout(0.1))\n",
        "\n",
        "model.add(Dense(32, activation='relu'))\n",
        "model.add(Dropout(0.2))\n",
        "\n",
        "model.add(Dense(1, activation='sigmoid'))\n",
        "\n",
        "opt = tf.keras.optimizers.Adam(lr=0.01, decay=1e-6)\n",
        "\n",
        "model.compile(\n",
        "    loss='binary_crossentropy',\n",
        "    optimizer=opt,\n",
        "    metrics=['accuracy'],\n",
        ")\n",
        "\n",
        "model.fit(x_train,\n",
        "          y_train,\n",
        "          epochs=100,\n",
        "          validation_data=(x_test, y_test)\n",
        "          )"
      ],
      "metadata": {
        "colab": {
          "base_uri": "https://localhost:8080/"
        },
        "id": "PX0uQCk82MxV",
        "outputId": "bd2d44ef-ff5d-417a-8eb9-3701f7df78ed"
      },
      "execution_count": null,
      "outputs": [
        {
          "output_type": "stream",
          "name": "stdout",
          "text": [
            "Epoch 1/100\n"
          ]
        },
        {
          "output_type": "stream",
          "name": "stderr",
          "text": [
            "/usr/local/lib/python3.7/dist-packages/keras/optimizer_v2/adam.py:105: UserWarning: The `lr` argument is deprecated, use `learning_rate` instead.\n",
            "  super(Adam, self).__init__(name, **kwargs)\n"
          ]
        },
        {
          "output_type": "stream",
          "name": "stdout",
          "text": [
            "2290/2290 [==============================] - 24s 7ms/step - loss: 0.0183 - accuracy: 0.9963 - val_loss: 0.0063 - val_accuracy: 0.9979\n",
            "Epoch 2/100\n",
            "2290/2290 [==============================] - 15s 7ms/step - loss: 0.0142 - accuracy: 0.9966 - val_loss: 0.0063 - val_accuracy: 0.9979\n",
            "Epoch 3/100\n",
            "2290/2290 [==============================] - 15s 7ms/step - loss: 0.0184 - accuracy: 0.9949 - val_loss: 0.0068 - val_accuracy: 0.9979\n",
            "Epoch 4/100\n",
            "2290/2290 [==============================] - 15s 6ms/step - loss: 0.0115 - accuracy: 0.9975 - val_loss: 0.0050 - val_accuracy: 0.9980\n",
            "Epoch 5/100\n",
            "2290/2290 [==============================] - 15s 7ms/step - loss: 0.0122 - accuracy: 0.9978 - val_loss: 0.0130 - val_accuracy: 0.9980\n",
            "Epoch 6/100\n",
            "2290/2290 [==============================] - 15s 6ms/step - loss: 0.0140 - accuracy: 0.9975 - val_loss: 0.0086 - val_accuracy: 0.9979\n",
            "Epoch 7/100\n",
            "2290/2290 [==============================] - 15s 7ms/step - loss: 0.0124 - accuracy: 0.9974 - val_loss: 0.0084 - val_accuracy: 0.9980\n",
            "Epoch 8/100\n",
            "2290/2290 [==============================] - 15s 7ms/step - loss: 0.0121 - accuracy: 0.9974 - val_loss: 0.0068 - val_accuracy: 0.9980\n",
            "Epoch 9/100\n",
            "2290/2290 [==============================] - 16s 7ms/step - loss: 0.0144 - accuracy: 0.9967 - val_loss: 0.0063 - val_accuracy: 0.9980\n",
            "Epoch 10/100\n",
            "2290/2290 [==============================] - 15s 6ms/step - loss: 0.0111 - accuracy: 0.9974 - val_loss: 0.0064 - val_accuracy: 0.9980\n",
            "Epoch 11/100\n",
            "2290/2290 [==============================] - 15s 7ms/step - loss: 0.0106 - accuracy: 0.9974 - val_loss: 0.0077 - val_accuracy: 0.9980\n",
            "Epoch 12/100\n",
            "2290/2290 [==============================] - 15s 6ms/step - loss: 0.0102 - accuracy: 0.9976 - val_loss: 0.0052 - val_accuracy: 0.9980\n",
            "Epoch 13/100\n",
            "2290/2290 [==============================] - 15s 6ms/step - loss: 0.0106 - accuracy: 0.9976 - val_loss: 0.0063 - val_accuracy: 0.9980\n",
            "Epoch 14/100\n",
            "2290/2290 [==============================] - 15s 6ms/step - loss: 0.0113 - accuracy: 0.9975 - val_loss: 0.0112 - val_accuracy: 0.9980\n",
            "Epoch 15/100\n",
            "2290/2290 [==============================] - 15s 7ms/step - loss: 0.0117 - accuracy: 0.9977 - val_loss: 0.0114 - val_accuracy: 0.9980\n",
            "Epoch 16/100\n",
            "2290/2290 [==============================] - 15s 7ms/step - loss: 0.0104 - accuracy: 0.9978 - val_loss: 0.0058 - val_accuracy: 0.9980\n",
            "Epoch 17/100\n",
            "2290/2290 [==============================] - 16s 7ms/step - loss: 0.0096 - accuracy: 0.9977 - val_loss: 0.0049 - val_accuracy: 0.9980\n",
            "Epoch 18/100\n",
            "2290/2290 [==============================] - 15s 7ms/step - loss: 0.0079 - accuracy: 0.9979 - val_loss: 0.0061 - val_accuracy: 0.9980\n",
            "Epoch 19/100\n",
            "2290/2290 [==============================] - 15s 7ms/step - loss: 0.0088 - accuracy: 0.9977 - val_loss: 0.0050 - val_accuracy: 0.9980\n",
            "Epoch 20/100\n",
            "2290/2290 [==============================] - 15s 6ms/step - loss: 0.0075 - accuracy: 0.9979 - val_loss: 0.0063 - val_accuracy: 0.9980\n",
            "Epoch 21/100\n",
            "2290/2290 [==============================] - 15s 6ms/step - loss: 0.0083 - accuracy: 0.9979 - val_loss: 0.0042 - val_accuracy: 0.9980\n",
            "Epoch 22/100\n",
            "2290/2290 [==============================] - 15s 6ms/step - loss: 0.0088 - accuracy: 0.9979 - val_loss: 0.0056 - val_accuracy: 0.9980\n",
            "Epoch 23/100\n",
            "2290/2290 [==============================] - 15s 6ms/step - loss: 0.0087 - accuracy: 0.9978 - val_loss: 0.0045 - val_accuracy: 0.9980\n",
            "Epoch 24/100\n",
            "2290/2290 [==============================] - 16s 7ms/step - loss: 0.0092 - accuracy: 0.9978 - val_loss: 0.0063 - val_accuracy: 0.9980\n",
            "Epoch 25/100\n",
            "2290/2290 [==============================] - 15s 7ms/step - loss: 0.0093 - accuracy: 0.9978 - val_loss: 0.0053 - val_accuracy: 0.9980\n",
            "Epoch 26/100\n",
            "2290/2290 [==============================] - 15s 6ms/step - loss: 0.0091 - accuracy: 0.9976 - val_loss: 0.0050 - val_accuracy: 0.9980\n",
            "Epoch 27/100\n",
            "2290/2290 [==============================] - 15s 6ms/step - loss: 0.0085 - accuracy: 0.9978 - val_loss: 0.0062 - val_accuracy: 0.9980\n",
            "Epoch 28/100\n",
            "2290/2290 [==============================] - 15s 7ms/step - loss: 0.0090 - accuracy: 0.9978 - val_loss: 0.0114 - val_accuracy: 0.9980\n",
            "Epoch 29/100\n",
            "2290/2290 [==============================] - 15s 6ms/step - loss: 0.0108 - accuracy: 0.9976 - val_loss: 0.0041 - val_accuracy: 0.9980\n",
            "Epoch 30/100\n",
            "2290/2290 [==============================] - 15s 7ms/step - loss: 0.0083 - accuracy: 0.9978 - val_loss: 0.0045 - val_accuracy: 0.9980\n",
            "Epoch 31/100\n",
            "2290/2290 [==============================] - 15s 6ms/step - loss: 0.0080 - accuracy: 0.9978 - val_loss: 0.0033 - val_accuracy: 0.9980\n",
            "Epoch 32/100\n",
            "2290/2290 [==============================] - 16s 7ms/step - loss: 0.0093 - accuracy: 0.9975 - val_loss: 0.0032 - val_accuracy: 0.9980\n",
            "Epoch 33/100\n",
            "2290/2290 [==============================] - 15s 6ms/step - loss: 0.0071 - accuracy: 0.9977 - val_loss: 0.0036 - val_accuracy: 0.9980\n",
            "Epoch 34/100\n",
            "2290/2290 [==============================] - 15s 6ms/step - loss: 0.0077 - accuracy: 0.9978 - val_loss: 0.0028 - val_accuracy: 0.9980\n",
            "Epoch 35/100\n",
            "2290/2290 [==============================] - 15s 6ms/step - loss: 0.0077 - accuracy: 0.9978 - val_loss: 0.0036 - val_accuracy: 0.9980\n",
            "Epoch 36/100\n",
            "2290/2290 [==============================] - 15s 7ms/step - loss: 0.0068 - accuracy: 0.9978 - val_loss: 0.0037 - val_accuracy: 0.9980\n",
            "Epoch 37/100\n",
            "2290/2290 [==============================] - 15s 7ms/step - loss: 0.0074 - accuracy: 0.9978 - val_loss: 0.0034 - val_accuracy: 0.9980\n",
            "Epoch 38/100\n",
            "2290/2290 [==============================] - 15s 7ms/step - loss: 0.0067 - accuracy: 0.9980 - val_loss: 0.0028 - val_accuracy: 0.9980\n",
            "Epoch 39/100\n",
            "2290/2290 [==============================] - 15s 7ms/step - loss: 0.0062 - accuracy: 0.9979 - val_loss: 0.0027 - val_accuracy: 0.9980\n",
            "Epoch 40/100\n",
            "2290/2290 [==============================] - 16s 7ms/step - loss: 0.0060 - accuracy: 0.9982 - val_loss: 0.0028 - val_accuracy: 0.9998\n",
            "Epoch 41/100\n",
            "2290/2290 [==============================] - 15s 6ms/step - loss: 0.0071 - accuracy: 0.9979 - val_loss: 0.0034 - val_accuracy: 0.9980\n",
            "Epoch 42/100\n",
            "2290/2290 [==============================] - 15s 6ms/step - loss: 0.0062 - accuracy: 0.9981 - val_loss: 0.0034 - val_accuracy: 0.9980\n",
            "Epoch 43/100\n",
            "2290/2290 [==============================] - 15s 6ms/step - loss: 0.0060 - accuracy: 0.9981 - val_loss: 0.0022 - val_accuracy: 0.9998\n",
            "Epoch 44/100\n",
            "2290/2290 [==============================] - 15s 7ms/step - loss: 0.0058 - accuracy: 0.9980 - val_loss: 0.0025 - val_accuracy: 0.9980\n",
            "Epoch 45/100\n",
            "2290/2290 [==============================] - 15s 7ms/step - loss: 0.0068 - accuracy: 0.9978 - val_loss: 0.0026 - val_accuracy: 0.9980\n",
            "Epoch 46/100\n",
            "2290/2290 [==============================] - 15s 6ms/step - loss: 0.0066 - accuracy: 0.9980 - val_loss: 0.0028 - val_accuracy: 0.9980\n",
            "Epoch 47/100\n",
            "2290/2290 [==============================] - 15s 6ms/step - loss: 0.0066 - accuracy: 0.9977 - val_loss: 0.0031 - val_accuracy: 0.9980\n",
            "Epoch 48/100\n",
            "2290/2290 [==============================] - 16s 7ms/step - loss: 0.0063 - accuracy: 0.9979 - val_loss: 0.0020 - val_accuracy: 0.9998\n",
            "Epoch 49/100\n",
            "2290/2290 [==============================] - 15s 6ms/step - loss: 0.0064 - accuracy: 0.9979 - val_loss: 0.0027 - val_accuracy: 0.9980\n",
            "Epoch 50/100\n",
            "2290/2290 [==============================] - 15s 6ms/step - loss: 0.0071 - accuracy: 0.9979 - val_loss: 0.0039 - val_accuracy: 0.9980\n",
            "Epoch 51/100\n",
            "2290/2290 [==============================] - 15s 6ms/step - loss: 0.0060 - accuracy: 0.9979 - val_loss: 0.0035 - val_accuracy: 0.9980\n",
            "Epoch 52/100\n",
            "2290/2290 [==============================] - 15s 6ms/step - loss: 0.0070 - accuracy: 0.9978 - val_loss: 0.0027 - val_accuracy: 0.9980\n",
            "Epoch 53/100\n",
            "2290/2290 [==============================] - 15s 6ms/step - loss: 0.0068 - accuracy: 0.9979 - val_loss: 0.0034 - val_accuracy: 0.9980\n",
            "Epoch 54/100\n",
            "2290/2290 [==============================] - 15s 6ms/step - loss: 0.0070 - accuracy: 0.9980 - val_loss: 0.0033 - val_accuracy: 0.9980\n",
            "Epoch 55/100\n",
            "2290/2290 [==============================] - 15s 6ms/step - loss: 0.0068 - accuracy: 0.9979 - val_loss: 0.0025 - val_accuracy: 0.9980\n",
            "Epoch 56/100\n",
            "2290/2290 [==============================] - 16s 7ms/step - loss: 0.0063 - accuracy: 0.9980 - val_loss: 0.0026 - val_accuracy: 0.9998\n",
            "Epoch 57/100\n",
            "2290/2290 [==============================] - 15s 6ms/step - loss: 0.0062 - accuracy: 0.9978 - val_loss: 0.0023 - val_accuracy: 0.9980\n",
            "Epoch 58/100\n",
            "2290/2290 [==============================] - 15s 6ms/step - loss: 0.0066 - accuracy: 0.9980 - val_loss: 0.0023 - val_accuracy: 0.9980\n",
            "Epoch 59/100\n",
            "2290/2290 [==============================] - 14s 6ms/step - loss: 0.0061 - accuracy: 0.9978 - val_loss: 0.0031 - val_accuracy: 0.9980\n",
            "Epoch 60/100\n",
            "2290/2290 [==============================] - 15s 6ms/step - loss: 0.0068 - accuracy: 0.9978 - val_loss: 0.0029 - val_accuracy: 0.9980\n",
            "Epoch 61/100\n",
            "2290/2290 [==============================] - 15s 7ms/step - loss: 0.0067 - accuracy: 0.9978 - val_loss: 0.0029 - val_accuracy: 0.9980\n",
            "Epoch 62/100\n",
            "2290/2290 [==============================] - 15s 6ms/step - loss: 0.0067 - accuracy: 0.9978 - val_loss: 0.0033 - val_accuracy: 0.9980\n",
            "Epoch 63/100\n",
            "2290/2290 [==============================] - 15s 6ms/step - loss: 0.0069 - accuracy: 0.9981 - val_loss: 0.0032 - val_accuracy: 0.9980\n",
            "Epoch 64/100\n",
            "2290/2290 [==============================] - 16s 7ms/step - loss: 0.0064 - accuracy: 0.9979 - val_loss: 0.0023 - val_accuracy: 0.9980\n",
            "Epoch 65/100\n",
            "2290/2290 [==============================] - 15s 6ms/step - loss: 0.0060 - accuracy: 0.9980 - val_loss: 0.0041 - val_accuracy: 0.9998\n",
            "Epoch 66/100\n",
            "2290/2290 [==============================] - 15s 6ms/step - loss: 0.0058 - accuracy: 0.9985 - val_loss: 0.0031 - val_accuracy: 0.9998\n",
            "Epoch 67/100\n",
            "2290/2290 [==============================] - 15s 6ms/step - loss: 0.0056 - accuracy: 0.9980 - val_loss: 0.0032 - val_accuracy: 0.9980\n",
            "Epoch 68/100\n",
            "2290/2290 [==============================] - 15s 6ms/step - loss: 0.0060 - accuracy: 0.9980 - val_loss: 0.0030 - val_accuracy: 0.9998\n",
            "Epoch 69/100\n",
            "2290/2290 [==============================] - 15s 7ms/step - loss: 0.0066 - accuracy: 0.9978 - val_loss: 0.0036 - val_accuracy: 0.9980\n",
            "Epoch 70/100\n",
            "2290/2290 [==============================] - 15s 6ms/step - loss: 0.0069 - accuracy: 0.9978 - val_loss: 0.0033 - val_accuracy: 0.9980\n",
            "Epoch 71/100\n",
            "2290/2290 [==============================] - 15s 6ms/step - loss: 0.0059 - accuracy: 0.9980 - val_loss: 0.0034 - val_accuracy: 0.9980\n",
            "Epoch 72/100\n",
            "2290/2290 [==============================] - 16s 7ms/step - loss: 0.0063 - accuracy: 0.9979 - val_loss: 0.0033 - val_accuracy: 0.9980\n",
            "Epoch 73/100\n",
            "2290/2290 [==============================] - 15s 6ms/step - loss: 0.0065 - accuracy: 0.9978 - val_loss: 0.0027 - val_accuracy: 0.9980\n",
            "Epoch 74/100\n",
            "2290/2290 [==============================] - 15s 6ms/step - loss: 0.0059 - accuracy: 0.9979 - val_loss: 0.0035 - val_accuracy: 0.9980\n",
            "Epoch 75/100\n",
            "2290/2290 [==============================] - 15s 6ms/step - loss: 0.0064 - accuracy: 0.9978 - val_loss: 0.0034 - val_accuracy: 0.9980\n",
            "Epoch 76/100\n",
            "2290/2290 [==============================] - 15s 7ms/step - loss: 0.0065 - accuracy: 0.9977 - val_loss: 0.0030 - val_accuracy: 0.9980\n",
            "Epoch 77/100\n",
            "2290/2290 [==============================] - 15s 6ms/step - loss: 0.0062 - accuracy: 0.9980 - val_loss: 0.0034 - val_accuracy: 0.9980\n",
            "Epoch 78/100\n",
            "2290/2290 [==============================] - 15s 6ms/step - loss: 0.0068 - accuracy: 0.9980 - val_loss: 0.0042 - val_accuracy: 0.9980\n",
            "Epoch 79/100\n",
            "2290/2290 [==============================] - 15s 6ms/step - loss: 0.0065 - accuracy: 0.9979 - val_loss: 0.0034 - val_accuracy: 0.9980\n",
            "Epoch 80/100\n",
            "2290/2290 [==============================] - 16s 7ms/step - loss: 0.0060 - accuracy: 0.9979 - val_loss: 0.0039 - val_accuracy: 0.9980\n",
            "Epoch 81/100\n",
            "2290/2290 [==============================] - 15s 6ms/step - loss: 0.0060 - accuracy: 0.9979 - val_loss: 0.0030 - val_accuracy: 0.9980\n",
            "Epoch 82/100\n",
            "2290/2290 [==============================] - 15s 6ms/step - loss: 0.0062 - accuracy: 0.9980 - val_loss: 0.0023 - val_accuracy: 0.9980\n",
            "Epoch 83/100\n",
            "2290/2290 [==============================] - 15s 7ms/step - loss: 0.0058 - accuracy: 0.9980 - val_loss: 0.0024 - val_accuracy: 0.9998\n",
            "Epoch 84/100\n",
            "2290/2290 [==============================] - 15s 6ms/step - loss: 0.0088 - accuracy: 0.9978 - val_loss: 0.0028 - val_accuracy: 0.9980\n",
            "Epoch 85/100\n",
            "2290/2290 [==============================] - 15s 6ms/step - loss: 0.0077 - accuracy: 0.9979 - val_loss: 0.0050 - val_accuracy: 0.9980\n",
            "Epoch 86/100\n",
            "2290/2290 [==============================] - 15s 7ms/step - loss: 0.0089 - accuracy: 0.9978 - val_loss: 0.0040 - val_accuracy: 0.9980\n",
            "Epoch 87/100\n",
            "2290/2290 [==============================] - 15s 6ms/step - loss: 0.0071 - accuracy: 0.9979 - val_loss: 0.0056 - val_accuracy: 0.9980\n",
            "Epoch 88/100\n",
            "2290/2290 [==============================] - 16s 7ms/step - loss: 0.0077 - accuracy: 0.9979 - val_loss: 0.0052 - val_accuracy: 0.9980\n",
            "Epoch 89/100\n",
            "2290/2290 [==============================] - 15s 7ms/step - loss: 0.0082 - accuracy: 0.9979 - val_loss: 0.0034 - val_accuracy: 0.9980\n",
            "Epoch 90/100\n",
            "2290/2290 [==============================] - 15s 7ms/step - loss: 0.0084 - accuracy: 0.9978 - val_loss: 0.0034 - val_accuracy: 0.9980\n",
            "Epoch 91/100\n",
            "2290/2290 [==============================] - 15s 6ms/step - loss: 0.0083 - accuracy: 0.9979 - val_loss: 0.0065 - val_accuracy: 0.9980\n",
            "Epoch 92/100\n",
            "2290/2290 [==============================] - 15s 7ms/step - loss: 0.0083 - accuracy: 0.9979 - val_loss: 0.0046 - val_accuracy: 0.9980\n",
            "Epoch 93/100\n",
            "2290/2290 [==============================] - 15s 6ms/step - loss: 0.0070 - accuracy: 0.9979 - val_loss: 0.0065 - val_accuracy: 0.9980\n",
            "Epoch 94/100\n",
            "2290/2290 [==============================] - 15s 7ms/step - loss: 0.0080 - accuracy: 0.9979 - val_loss: 0.0048 - val_accuracy: 0.9980\n",
            "Epoch 95/100\n",
            "2290/2290 [==============================] - 15s 6ms/step - loss: 0.0091 - accuracy: 0.9979 - val_loss: 0.0038 - val_accuracy: 0.9980\n",
            "Epoch 96/100\n",
            "2290/2290 [==============================] - 16s 7ms/step - loss: 0.0079 - accuracy: 0.9979 - val_loss: 0.0044 - val_accuracy: 0.9980\n",
            "Epoch 97/100\n",
            "2290/2290 [==============================] - 15s 6ms/step - loss: 0.0074 - accuracy: 0.9980 - val_loss: 0.0058 - val_accuracy: 0.9980\n",
            "Epoch 98/100\n",
            "2290/2290 [==============================] - 15s 7ms/step - loss: 0.0077 - accuracy: 0.9979 - val_loss: 0.0059 - val_accuracy: 0.9980\n",
            "Epoch 99/100\n",
            "2290/2290 [==============================] - 15s 7ms/step - loss: 0.0084 - accuracy: 0.9979 - val_loss: 0.0042 - val_accuracy: 0.9980\n",
            "Epoch 100/100\n",
            "2290/2290 [==============================] - 15s 6ms/step - loss: 0.0071 - accuracy: 0.9980 - val_loss: 0.0044 - val_accuracy: 0.9980\n"
          ]
        },
        {
          "output_type": "execute_result",
          "data": {
            "text/plain": [
              "<keras.callbacks.History at 0x7f3fee2372d0>"
            ]
          },
          "metadata": {},
          "execution_count": 32
        }
      ]
    },
    {
      "cell_type": "code",
      "source": [
        "loss,acc = model.evaluate(x_test, y_test, verbose = 1)"
      ],
      "metadata": {
        "colab": {
          "base_uri": "https://localhost:8080/"
        },
        "id": "IbrqOkpE2Mu_",
        "outputId": "45ba0050-a09e-473e-a8d2-8df1c3f033b4"
      },
      "execution_count": null,
      "outputs": [
        {
          "output_type": "stream",
          "name": "stdout",
          "text": [
            "982/982 [==============================] - 3s 3ms/step - loss: 0.0044 - accuracy: 0.9980\n"
          ]
        }
      ]
    },
    {
      "cell_type": "code",
      "source": [
        "prediction = model.predict(x_test)"
      ],
      "metadata": {
        "id": "iHzvt7Ik2Mqj"
      },
      "execution_count": null,
      "outputs": []
    },
    {
      "cell_type": "code",
      "source": [
        "prediction[10]"
      ],
      "metadata": {
        "colab": {
          "base_uri": "https://localhost:8080/"
        },
        "id": "RFA0ZCz12Mns",
        "outputId": "1e5c70ff-22d0-4d01-aebb-8309aab49f4f"
      },
      "execution_count": null,
      "outputs": [
        {
          "output_type": "execute_result",
          "data": {
            "text/plain": [
              "array([0.99999166], dtype=float32)"
            ]
          },
          "metadata": {},
          "execution_count": 35
        }
      ]
    },
    {
      "cell_type": "code",
      "source": [
        "threshold = 0.5\n",
        "\n",
        "prediction_2 = np.where(prediction >= threshold, 1, prediction)\n",
        "prediction_2 = np.where(prediction_2 < threshold, 0, prediction_2)\n",
        "\n",
        "prediction_2"
      ],
      "metadata": {
        "colab": {
          "base_uri": "https://localhost:8080/"
        },
        "id": "KuNBGKEq2UX9",
        "outputId": "71041738-9ecb-45af-b395-fa18aaa3819f"
      },
      "execution_count": null,
      "outputs": [
        {
          "output_type": "execute_result",
          "data": {
            "text/plain": [
              "array([[0.],\n",
              "       [1.],\n",
              "       [1.],\n",
              "       ...,\n",
              "       [1.],\n",
              "       [1.],\n",
              "       [1.]], dtype=float32)"
            ]
          },
          "metadata": {},
          "execution_count": 36
        }
      ]
    },
    {
      "cell_type": "code",
      "source": [
        "cm = confusion_matrix(y_test, prediction_2)\n",
        "print(cm)"
      ],
      "metadata": {
        "colab": {
          "base_uri": "https://localhost:8080/"
        },
        "id": "ptOIe52D2UWK",
        "outputId": "f652e69c-17c5-4c9d-a1ed-d29f54154037"
      },
      "execution_count": null,
      "outputs": [
        {
          "output_type": "stream",
          "name": "stdout",
          "text": [
            "[[10600    62]\n",
            " [    0 20744]]\n"
          ]
        }
      ]
    },
    {
      "cell_type": "code",
      "source": [
        "print(\"True Negative TN : \", cm[0][0])\n",
        "\n",
        "print(\"False Positive FP : \", cm[0][1])\n",
        "\n",
        "print(\"False Negative FN : \", cm[1][0])\n",
        "\n",
        "print(\"True Positive TP : \", cm[1][1])"
      ],
      "metadata": {
        "colab": {
          "base_uri": "https://localhost:8080/"
        },
        "id": "tUwMXcxQ2UUK",
        "outputId": "c7f1f1fd-62d5-46ae-d5d4-2b57b2b041d4"
      },
      "execution_count": null,
      "outputs": [
        {
          "output_type": "stream",
          "name": "stdout",
          "text": [
            "True Negative TN :  10600\n",
            "False Positive FP :  62\n",
            "False Negative FN :  0\n",
            "True Positive TP :  20744\n"
          ]
        }
      ]
    },
    {
      "cell_type": "code",
      "source": [
        "print(\"Detection Rate is : \", (cm[1][1])/(cm[1][1]+cm[1][0])*100)\n",
        "\n",
        "print(\"False Alarm Rate is : \", (cm[0][1])/(cm[0][1]+cm[0][0])*100)"
      ],
      "metadata": {
        "colab": {
          "base_uri": "https://localhost:8080/"
        },
        "id": "X-xZkDY32URL",
        "outputId": "c461a190-f620-42d1-ee6b-2bd20c5b0410"
      },
      "execution_count": null,
      "outputs": [
        {
          "output_type": "stream",
          "name": "stdout",
          "text": [
            "Detection Rate is :  100.0\n",
            "False Alarm Rate is :  0.5815044081785782\n"
          ]
        }
      ]
    },
    {
      "cell_type": "code",
      "source": [
        "print(classification_report(y_test, prediction_2, digits=5))"
      ],
      "metadata": {
        "colab": {
          "base_uri": "https://localhost:8080/"
        },
        "id": "2OrDIL1o2Mli",
        "outputId": "5886152a-1c42-468e-aa27-310ffdbbd74f"
      },
      "execution_count": null,
      "outputs": [
        {
          "output_type": "stream",
          "name": "stdout",
          "text": [
            "              precision    recall  f1-score   support\n",
            "\n",
            "         0.0    1.00000   0.99418   0.99708     10662\n",
            "         1.0    0.99702   1.00000   0.99851     20744\n",
            "\n",
            "    accuracy                        0.99803     31406\n",
            "   macro avg    0.99851   0.99709   0.99780     31406\n",
            "weighted avg    0.99803   0.99803   0.99802     31406\n",
            "\n"
          ]
        }
      ]
    },
    {
      "cell_type": "code",
      "source": [
        "# from keras.model import load_model"
      ],
      "metadata": {
        "id": "DcTTPfElFXLA"
      },
      "execution_count": null,
      "outputs": []
    },
    {
      "cell_type": "code",
      "source": [
        "model.save('0829.h5')"
      ],
      "metadata": {
        "id": "eTCbqkr_f0Gd"
      },
      "execution_count": null,
      "outputs": []
    }
  ]
}