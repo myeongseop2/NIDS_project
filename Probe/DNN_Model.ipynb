{
  "nbformat": 4,
  "nbformat_minor": 0,
  "metadata": {
    "colab": {
      "provenance": [],
      "collapsed_sections": [],
      "authorship_tag": "ABX9TyM+KPE6kdo2XCT++olbcIlU",
      "include_colab_link": true
    },
    "kernelspec": {
      "name": "python3",
      "display_name": "Python 3"
    },
    "language_info": {
      "name": "python"
    }
  },
  "cells": [
    {
      "cell_type": "markdown",
      "metadata": {
        "id": "view-in-github",
        "colab_type": "text"
      },
      "source": [
        "<a href=\"https://colab.research.google.com/github/myeongseop2/NIDS_project/blob/main/Probe/DNN_Model.ipynb\" target=\"_parent\"><img src=\"https://colab.research.google.com/assets/colab-badge.svg\" alt=\"Open In Colab\"/></a>"
      ]
    },
    {
      "cell_type": "code",
      "execution_count": null,
      "metadata": {
        "id": "7DDBIThFbkgG"
      },
      "outputs": [],
      "source": [
        "import pandas as pd\n",
        "import numpy as np\n",
        "import os\n",
        "import tensorflow as tf\n",
        "from sklearn.metrics import confusion_matrix\n",
        "from sklearn.metrics import classification_report\n",
        "from keras.models import Sequential\n",
        "from keras.layers import Dropout, Dense\n",
        "from keras.callbacks import ModelCheckpoint, CSVLogger\n",
        "\n",
        "MODEL_SAVE_FOLDER_PATH = '/content/drive/MyDrive/project/NIDS/model'\n",
        "MODEL_HISTORY_FOLDER_PATH = '/content/drive/MyDrive/project/NIDS/history'\n",
        "\n",
        "if not os.path.exists(MODEL_SAVE_FOLDER_PATH):\n",
        "    os.mkdir(MODEL_SAVE_FOLDER_PATH)\n",
        "    \n",
        "if not os.path.exists(MODEL_HISTORY_FOLDER_PATH):\n",
        "    os.mkdir(MODEL_HISTORY_FOLDER_PATH)\n",
        "\n",
        "x_train = pd.read_csv('/content/drive/MyDrive/project/NIDS/data/NSL_KDD/x_train.csv')\n",
        "y_train = pd.read_csv('/content/drive/MyDrive/project/NIDS/data/NSL_KDD/y_train.csv')\n",
        "x_test = pd.read_csv('/content/drive/MyDrive/project/NIDS/data/NSL_KDD/x_test.csv')\n",
        "y_test = pd.read_csv('/content/drive/MyDrive/project/NIDS/data/NSL_KDD/y_test.csv')\n",
        "\n",
        "x_train = np.array(x_train)\n",
        "y_train = np.array(y_train)\n",
        "x_test = np.array(x_test)\n",
        "y_test = np.array(y_test)\n",
        "\n",
        "x_train_rnn = x_train.reshape(x_train.shape[0], x_train.shape[1], 1)\n",
        "x_test_rnn = x_test.reshape(x_test.shape[0], x_test.shape[1], 1)\n",
        "\n",
        "model = Sequential()\n",
        "model.add(Dense(64, activation='relu', input_shape=(19,)))\n",
        "model.add(Dropout(0.1))\n",
        "model.add(Dense(32, activation='relu'))\n",
        "model.add(Dropout(0.1))\n",
        "model.add(Dense(16, activation='relu'))\n",
        "model.add(Dropout(0.1))\n",
        "model.add(Dense(8, activation='relu'))\n",
        "model.add(Dropout(0.1))\n",
        "model.add(Dense(4, activation='relu'))\n",
        "\n",
        "model.add(Dense(1, activation='sigmoid'))\n",
        "\n",
        "model_path = MODEL_SAVE_FOLDER_PATH + 'DNN_{epoch}.h5'\n",
        "history_path = MODEL_HISTORY_FOLDER_PATH + 'log.csv'\n",
        "\n",
        "csv_logger = CSVLogger(filename=history_path, append=True, separator=';')\n",
        "check_point = ModelCheckpoint(filepath=model_path, verbose=0, save_best_only=False,save_weights_only=False, mode='auto', save_freq='epoch', period=10000)\n",
        "\n",
        "model.compile(loss='binary_crossentropy', optimizer = 'adam', metrics=['accuracy'])\n",
        "model.fit(x_train_rnn, y_train, epochs=10, validation_data=(x_test_rnn, y_test), callbacks=[check_point, csv_logger])\n",
        "\n",
        "pred = model.predict(x_test_rnn)\n",
        "\n",
        "threshold = 0.5\n",
        "\n",
        "pred2 = np.where(pred >= threshold, 1, pred)\n",
        "pred2 = np.where(pred2 < threshold, 0, pred2)\n",
        "\n",
        "print(pred2)\n",
        "\n",
        "cm = confusion_matrix(y_test, pred2)\n",
        "\n",
        "print(\"TN: \", cm[0][0])\n",
        "print(\"FP: \", cm[0][1])\n",
        "print(\"FN: \", cm[1][0])\n",
        "print(\"TP: \", cm[1][1])\n",
        "\n",
        "print(\"Detection Rate is : \", (cm[1][1])/(cm[1][1]+cm[1][0])*100)\n",
        "print(\"False Alarm Rate is : \", (cm[0][1])/(cm[0][1]+cm[0][0])*100)\n",
        "\n",
        "print(classification_report(y_test, pred2, digits=5))"
      ]
    }
  ]
}